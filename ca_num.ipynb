{
 "cells": [
  {
   "cell_type": "code",
   "execution_count": 21,
   "metadata": {},
   "outputs": [
    {
     "name": "stdout",
     "output_type": "stream",
     "text": [
      "The autoreload extension is already loaded. To reload it, use:\n",
      "  %reload_ext autoreload\n"
     ]
    }
   ],
   "source": [
    "path = '/home/nol/atom_pjs/ai_pro/'\n",
    "import sys\n",
    "sys.path.insert(0, path)\n",
    "\n",
    "import ca_num as cl\n",
    "import liveviewer as lv\n",
    "\n",
    "%load_ext autoreload\n",
    "%autoreload 2\n",
    "\n",
    "import matplotlib.pyplot as plt\n"
   ]
  },
  {
   "cell_type": "code",
   "execution_count": 24,
   "metadata": {},
   "outputs": [],
   "source": [
    "proc = cl.CA(rule=110, cols = 100, ratio=1)"
   ]
  },
  {
   "cell_type": "code",
   "execution_count": 25,
   "metadata": {
    "scrolled": false
   },
   "outputs": [
    {
     "name": "stderr",
     "output_type": "stream",
     "text": [
      "Exception in Tkinter callback\n",
      "Traceback (most recent call last):\n",
      "  File \"/home/nol/anaconda3/envs/snowflake/lib/python3.6/tkinter/__init__.py\", line 1699, in __call__\n",
      "    return self.func(*args)\n",
      "  File \"/home/nol/anaconda3/envs/snowflake/lib/python3.6/tkinter/__init__.py\", line 745, in callit\n",
      "    func(*args)\n",
      "  File \"/home/nol/anaconda3/envs/snowflake/lib/python3.6/site-packages/matplotlib/backends/backend_tkagg.py\", line 144, in _on_timer\n",
      "    TimerBase._on_timer(self)\n",
      "  File \"/home/nol/anaconda3/envs/snowflake/lib/python3.6/site-packages/matplotlib/backend_bases.py\", line 1319, in _on_timer\n",
      "    ret = func(*args, **kwargs)\n",
      "  File \"/home/nol/anaconda3/envs/snowflake/lib/python3.6/site-packages/matplotlib/animation.py\", line 1291, in _step\n",
      "    still_going = Animation._step(self, *args)\n",
      "  File \"/home/nol/anaconda3/envs/snowflake/lib/python3.6/site-packages/matplotlib/animation.py\", line 1080, in _step\n",
      "    self._draw_next_frame(framedata, self._blit)\n",
      "  File \"/home/nol/anaconda3/envs/snowflake/lib/python3.6/site-packages/matplotlib/animation.py\", line 1100, in _draw_next_frame\n",
      "    self._post_draw(framedata, blit)\n",
      "  File \"/home/nol/anaconda3/envs/snowflake/lib/python3.6/site-packages/matplotlib/animation.py\", line 1123, in _post_draw\n",
      "    self._blit_draw(self._drawn_artists, self._blit_cache)\n",
      "  File \"/home/nol/anaconda3/envs/snowflake/lib/python3.6/site-packages/matplotlib/animation.py\", line 1138, in _blit_draw\n",
      "    a.axes.draw_artist(a)\n",
      "  File \"/home/nol/anaconda3/envs/snowflake/lib/python3.6/site-packages/matplotlib/axes/_base.py\", line 2442, in draw_artist\n",
      "    a.draw(self._cachedRenderer)\n",
      "  File \"/home/nol/anaconda3/envs/snowflake/lib/python3.6/site-packages/matplotlib/artist.py\", line 63, in draw_wrapper\n",
      "    draw(artist, renderer, *args, **kwargs)\n",
      "  File \"/home/nol/anaconda3/envs/snowflake/lib/python3.6/site-packages/matplotlib/image.py\", line 543, in draw\n",
      "    renderer, renderer.get_image_magnification())\n",
      "  File \"/home/nol/anaconda3/envs/snowflake/lib/python3.6/site-packages/matplotlib/image.py\", line 770, in make_image\n",
      "    unsampled=unsampled)\n",
      "  File \"/home/nol/anaconda3/envs/snowflake/lib/python3.6/site-packages/matplotlib/image.py\", line 460, in _make_image\n",
      "    output[np.isnan(hid_output[..., 1]) * invalid_mask] = -1\n",
      "KeyboardInterrupt\n",
      "Exception in Tkinter callback\n",
      "Traceback (most recent call last):\n",
      "  File \"/home/nol/anaconda3/envs/snowflake/lib/python3.6/tkinter/__init__.py\", line 1699, in __call__\n",
      "    return self.func(*args)\n",
      "  File \"/home/nol/anaconda3/envs/snowflake/lib/python3.6/tkinter/__init__.py\", line 745, in callit\n",
      "    func(*args)\n",
      "  File \"/home/nol/anaconda3/envs/snowflake/lib/python3.6/site-packages/matplotlib/backends/backend_tkagg.py\", line 144, in _on_timer\n",
      "    TimerBase._on_timer(self)\n",
      "  File \"/home/nol/anaconda3/envs/snowflake/lib/python3.6/site-packages/matplotlib/backend_bases.py\", line 1319, in _on_timer\n",
      "    ret = func(*args, **kwargs)\n",
      "  File \"/home/nol/anaconda3/envs/snowflake/lib/python3.6/site-packages/matplotlib/animation.py\", line 1291, in _step\n",
      "    still_going = Animation._step(self, *args)\n",
      "  File \"/home/nol/anaconda3/envs/snowflake/lib/python3.6/site-packages/matplotlib/animation.py\", line 1080, in _step\n",
      "    self._draw_next_frame(framedata, self._blit)\n",
      "  File \"/home/nol/anaconda3/envs/snowflake/lib/python3.6/site-packages/matplotlib/animation.py\", line 1100, in _draw_next_frame\n",
      "    self._post_draw(framedata, blit)\n",
      "  File \"/home/nol/anaconda3/envs/snowflake/lib/python3.6/site-packages/matplotlib/animation.py\", line 1123, in _post_draw\n",
      "    self._blit_draw(self._drawn_artists, self._blit_cache)\n",
      "  File \"/home/nol/anaconda3/envs/snowflake/lib/python3.6/site-packages/matplotlib/animation.py\", line 1138, in _blit_draw\n",
      "    a.axes.draw_artist(a)\n",
      "  File \"/home/nol/anaconda3/envs/snowflake/lib/python3.6/site-packages/matplotlib/axes/_base.py\", line 2442, in draw_artist\n",
      "    a.draw(self._cachedRenderer)\n",
      "  File \"/home/nol/anaconda3/envs/snowflake/lib/python3.6/site-packages/matplotlib/artist.py\", line 63, in draw_wrapper\n",
      "    draw(artist, renderer, *args, **kwargs)\n",
      "  File \"/home/nol/anaconda3/envs/snowflake/lib/python3.6/site-packages/matplotlib/image.py\", line 543, in draw\n",
      "    renderer, renderer.get_image_magnification())\n",
      "  File \"/home/nol/anaconda3/envs/snowflake/lib/python3.6/site-packages/matplotlib/image.py\", line 770, in make_image\n",
      "    unsampled=unsampled)\n",
      "  File \"/home/nol/anaconda3/envs/snowflake/lib/python3.6/site-packages/matplotlib/image.py\", line 460, in _make_image\n",
      "    output[np.isnan(hid_output[..., 1]) * invalid_mask] = -1\n",
      "  File \"/home/nol/anaconda3/envs/snowflake/lib/python3.6/site-packages/numpy/ma/core.py\", line 3399, in __setitem__\n",
      "    _data[indx] = dval\n",
      "KeyboardInterrupt\n"
     ]
    },
    {
     "ename": "KeyboardInterrupt",
     "evalue": "",
     "output_type": "error",
     "traceback": [
      "\u001b[0;31m---------------------------------------------------------------------------\u001b[0m",
      "\u001b[0;31mKeyboardInterrupt\u001b[0m                         Traceback (most recent call last)",
      "\u001b[0;32m<ipython-input-25-7f50a48351ca>\u001b[0m in \u001b[0;36m<module>\u001b[0;34m()\u001b[0m\n\u001b[1;32m      1\u001b[0m \u001b[0mviewer\u001b[0m \u001b[0;34m=\u001b[0m \u001b[0mlv\u001b[0m\u001b[0;34m.\u001b[0m\u001b[0mLiveViewer\u001b[0m\u001b[0;34m(\u001b[0m\u001b[0mproc\u001b[0m\u001b[0;34m)\u001b[0m\u001b[0;34m\u001b[0m\u001b[0m\n\u001b[0;32m----> 2\u001b[0;31m \u001b[0mviewer\u001b[0m\u001b[0;34m.\u001b[0m\u001b[0mdraw\u001b[0m\u001b[0;34m(\u001b[0m\u001b[0;34m)\u001b[0m\u001b[0;34m\u001b[0m\u001b[0m\n\u001b[0m",
      "\u001b[0;32m~/atom_pjs/ai_pro/liveviewer.py\u001b[0m in \u001b[0;36mdraw\u001b[0;34m(self)\u001b[0m\n\u001b[1;32m     24\u001b[0m     \u001b[0;32mdef\u001b[0m \u001b[0mdraw\u001b[0m\u001b[0;34m(\u001b[0m\u001b[0mself\u001b[0m\u001b[0;34m)\u001b[0m\u001b[0;34m:\u001b[0m\u001b[0;34m\u001b[0m\u001b[0m\n\u001b[1;32m     25\u001b[0m         \u001b[0mself\u001b[0m\u001b[0;34m.\u001b[0m\u001b[0mani\u001b[0m \u001b[0;34m=\u001b[0m \u001b[0manimation\u001b[0m\u001b[0;34m.\u001b[0m\u001b[0mFuncAnimation\u001b[0m\u001b[0;34m(\u001b[0m\u001b[0mself\u001b[0m\u001b[0;34m.\u001b[0m\u001b[0mfig\u001b[0m\u001b[0;34m,\u001b[0m \u001b[0mself\u001b[0m\u001b[0;34m.\u001b[0m\u001b[0mupdate_fig\u001b[0m\u001b[0;34m,\u001b[0m \u001b[0minterval\u001b[0m\u001b[0;34m=\u001b[0m\u001b[0;36m1\u001b[0m\u001b[0;34m,\u001b[0m \u001b[0mblit\u001b[0m\u001b[0;34m=\u001b[0m\u001b[0;32mTrue\u001b[0m\u001b[0;34m)\u001b[0m\u001b[0;34m\u001b[0m\u001b[0m\n\u001b[0;32m---> 26\u001b[0;31m         \u001b[0mplt\u001b[0m\u001b[0;34m.\u001b[0m\u001b[0mshow\u001b[0m\u001b[0;34m(\u001b[0m\u001b[0;34m)\u001b[0m\u001b[0;34m\u001b[0m\u001b[0m\n\u001b[0m",
      "\u001b[0;32m~/anaconda3/envs/snowflake/lib/python3.6/site-packages/matplotlib/pyplot.py\u001b[0m in \u001b[0;36mshow\u001b[0;34m(*args, **kw)\u001b[0m\n\u001b[1;32m    251\u001b[0m     \"\"\"\n\u001b[1;32m    252\u001b[0m     \u001b[0;32mglobal\u001b[0m \u001b[0m_show\u001b[0m\u001b[0;34m\u001b[0m\u001b[0m\n\u001b[0;32m--> 253\u001b[0;31m     \u001b[0;32mreturn\u001b[0m \u001b[0m_show\u001b[0m\u001b[0;34m(\u001b[0m\u001b[0;34m*\u001b[0m\u001b[0margs\u001b[0m\u001b[0;34m,\u001b[0m \u001b[0;34m**\u001b[0m\u001b[0mkw\u001b[0m\u001b[0;34m)\u001b[0m\u001b[0;34m\u001b[0m\u001b[0m\n\u001b[0m\u001b[1;32m    254\u001b[0m \u001b[0;34m\u001b[0m\u001b[0m\n\u001b[1;32m    255\u001b[0m \u001b[0;34m\u001b[0m\u001b[0m\n",
      "\u001b[0;32m~/anaconda3/envs/snowflake/lib/python3.6/site-packages/matplotlib/backend_bases.py\u001b[0m in \u001b[0;36m__call__\u001b[0;34m(self, block)\u001b[0m\n\u001b[1;32m    191\u001b[0m \u001b[0;34m\u001b[0m\u001b[0m\n\u001b[1;32m    192\u001b[0m         \u001b[0;32mif\u001b[0m \u001b[0;32mnot\u001b[0m \u001b[0mis_interactive\u001b[0m\u001b[0;34m(\u001b[0m\u001b[0;34m)\u001b[0m \u001b[0;32mor\u001b[0m \u001b[0mget_backend\u001b[0m\u001b[0;34m(\u001b[0m\u001b[0;34m)\u001b[0m \u001b[0;34m==\u001b[0m \u001b[0;34m'WebAgg'\u001b[0m\u001b[0;34m:\u001b[0m\u001b[0;34m\u001b[0m\u001b[0m\n\u001b[0;32m--> 193\u001b[0;31m             \u001b[0mself\u001b[0m\u001b[0;34m.\u001b[0m\u001b[0mmainloop\u001b[0m\u001b[0;34m(\u001b[0m\u001b[0;34m)\u001b[0m\u001b[0;34m\u001b[0m\u001b[0m\n\u001b[0m\u001b[1;32m    194\u001b[0m \u001b[0;34m\u001b[0m\u001b[0m\n\u001b[1;32m    195\u001b[0m     \u001b[0;32mdef\u001b[0m \u001b[0mmainloop\u001b[0m\u001b[0;34m(\u001b[0m\u001b[0mself\u001b[0m\u001b[0;34m)\u001b[0m\u001b[0;34m:\u001b[0m\u001b[0;34m\u001b[0m\u001b[0m\n",
      "\u001b[0;32m~/anaconda3/envs/snowflake/lib/python3.6/site-packages/matplotlib/backends/backend_tkagg.py\u001b[0m in \u001b[0;36mmainloop\u001b[0;34m(self)\u001b[0m\n\u001b[1;32m     69\u001b[0m \u001b[0;32mclass\u001b[0m \u001b[0mShow\u001b[0m\u001b[0;34m(\u001b[0m\u001b[0mShowBase\u001b[0m\u001b[0;34m)\u001b[0m\u001b[0;34m:\u001b[0m\u001b[0;34m\u001b[0m\u001b[0m\n\u001b[1;32m     70\u001b[0m     \u001b[0;32mdef\u001b[0m \u001b[0mmainloop\u001b[0m\u001b[0;34m(\u001b[0m\u001b[0mself\u001b[0m\u001b[0;34m)\u001b[0m\u001b[0;34m:\u001b[0m\u001b[0;34m\u001b[0m\u001b[0m\n\u001b[0;32m---> 71\u001b[0;31m         \u001b[0mTk\u001b[0m\u001b[0;34m.\u001b[0m\u001b[0mmainloop\u001b[0m\u001b[0;34m(\u001b[0m\u001b[0;34m)\u001b[0m\u001b[0;34m\u001b[0m\u001b[0m\n\u001b[0m\u001b[1;32m     72\u001b[0m \u001b[0;34m\u001b[0m\u001b[0m\n\u001b[1;32m     73\u001b[0m \u001b[0mshow\u001b[0m \u001b[0;34m=\u001b[0m \u001b[0mShow\u001b[0m\u001b[0;34m(\u001b[0m\u001b[0;34m)\u001b[0m\u001b[0;34m\u001b[0m\u001b[0m\n",
      "\u001b[0;32m~/anaconda3/envs/snowflake/lib/python3.6/tkinter/__init__.py\u001b[0m in \u001b[0;36mmainloop\u001b[0;34m(n)\u001b[0m\n\u001b[1;32m    555\u001b[0m \u001b[0;32mdef\u001b[0m \u001b[0mmainloop\u001b[0m\u001b[0;34m(\u001b[0m\u001b[0mn\u001b[0m\u001b[0;34m=\u001b[0m\u001b[0;36m0\u001b[0m\u001b[0;34m)\u001b[0m\u001b[0;34m:\u001b[0m\u001b[0;34m\u001b[0m\u001b[0m\n\u001b[1;32m    556\u001b[0m     \u001b[0;34m\"\"\"Run the main loop of Tcl.\"\"\"\u001b[0m\u001b[0;34m\u001b[0m\u001b[0m\n\u001b[0;32m--> 557\u001b[0;31m     \u001b[0m_default_root\u001b[0m\u001b[0;34m.\u001b[0m\u001b[0mtk\u001b[0m\u001b[0;34m.\u001b[0m\u001b[0mmainloop\u001b[0m\u001b[0;34m(\u001b[0m\u001b[0mn\u001b[0m\u001b[0;34m)\u001b[0m\u001b[0;34m\u001b[0m\u001b[0m\n\u001b[0m\u001b[1;32m    558\u001b[0m \u001b[0;34m\u001b[0m\u001b[0m\n\u001b[1;32m    559\u001b[0m \u001b[0mgetint\u001b[0m \u001b[0;34m=\u001b[0m \u001b[0mint\u001b[0m\u001b[0;34m\u001b[0m\u001b[0m\n",
      "\u001b[0;31mKeyboardInterrupt\u001b[0m: "
     ]
    }
   ],
   "source": [
    "viewer = lv.LiveViewer(proc)\n",
    "viewer.draw()"
   ]
  },
  {
   "cell_type": "code",
   "execution_count": null,
   "metadata": {
    "collapsed": true
   },
   "outputs": [],
   "source": []
  }
 ],
 "metadata": {
  "kernelspec": {
   "display_name": "Python [conda env:snowflake]",
   "language": "python",
   "name": "conda-env-snowflake-py"
  },
  "language_info": {
   "codemirror_mode": {
    "name": "ipython",
    "version": 3
   },
   "file_extension": ".py",
   "mimetype": "text/x-python",
   "name": "python",
   "nbconvert_exporter": "python",
   "pygments_lexer": "ipython3",
   "version": "3.6.1"
  }
 },
 "nbformat": 4,
 "nbformat_minor": 2
}
