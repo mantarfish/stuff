{
 "cells": [
  {
   "cell_type": "code",
   "execution_count": 234,
   "metadata": {},
   "outputs": [],
   "source": [
    "import sys, time\n",
    "import matplotlib.pyplot as plt\n",
    "import matplotlib.animation as animation\n",
    "from IPython.display import HTML\n",
    "import numpy as np\n",
    "\n",
    "%matplotlib inline"
   ]
  },
  {
   "cell_type": "code",
   "execution_count": 278,
   "metadata": {},
   "outputs": [],
   "source": [
    "def linearconv(nx, nt):\n",
    "    if not nx:\n",
    "        nx = 50\n",
    "    dx = 2 / (nx - 1)\n",
    "    if not nt:\n",
    "        nt = 80\n",
    "    \n",
    "    sigma = .1\n",
    "    \n",
    "    dt = sigma * dx\n",
    "    c = 1\n",
    "\n",
    "    u = np.ones(nx)\n",
    "    u[int(.5/dx): int(1/dx)] = 2\n",
    "\n",
    "    un = np.ones(nx)\n",
    "    history = u.copy()\n",
    "\n",
    "    for n in range(nt):\n",
    "        un = u.copy()\n",
    "        for i in range(1, nx):\n",
    "            u[i] = un[i] - un[i] * dt / dx * (un[i] - un[i-1])\n",
    "        history = np.row_stack((history, u))\n",
    "    return history\n",
    "\n",
    "nx = 41\n",
    "nt = 20\n",
    "history = linearconv(nx, nt)\n",
    "\n",
    "def linear_diffusion():\n",
    "    nx = 41\n",
    "    dx = 2 / (nx - 1)\n",
    "    nt = 20\n",
    "    nu = .3\n",
    "    sigma = .2\n",
    "    dt = sigma * dx**2 / nu\n",
    "    \n",
    "    u = np.ones(nx)\n",
    "    u[int(0.5/dx): int(1/dx)] = 2\n",
    "    history = u.copy()\n",
    "    for n in range(nt):\n",
    "        un = u.copy()\n",
    "        for i in range(1, nx - 1):\n",
    "            u[i] = un[i] + nu * (dt / dx**2 *\n",
    "                                 (un[i+1] -\n",
    "                                  2 * un[i] + un[i-1]))\n",
    "        history = np.vstack((history, u))\n",
    "    return history\n",
    "\n",
    "history_1 = linear_diffusion()"
   ]
  },
  {
   "cell_type": "code",
   "execution_count": 279,
   "metadata": {},
   "outputs": [
    {
     "data": {
      "text/plain": [
       "[<matplotlib.lines.Line2D at 0x7fb8bb136240>]"
      ]
     },
     "execution_count": 279,
     "metadata": {},
     "output_type": "execute_result"
    },
    {
     "data": {
      "image/png": "[encoded data removed]",
      "text/plain": [
       "<matplotlib.figure.Figure at 0x7fb8bb26be48>"
      ]
     },
     "metadata": {},
     "output_type": "display_data"
    }
   ],
   "source": [
    "plt.plot(np.linspace(0, 2, nx), history[1])"
   ]
  },
  {
   "cell_type": "code",
   "execution_count": 280,
   "metadata": {},
   "outputs": [
    {
     "data": {
      "text/plain": [
       "(21, 41)"
      ]
     },
     "execution_count": 280,
     "metadata": {},
     "output_type": "execute_result"
    }
   ],
   "source": [
    "history_1.shape"
   ]
  },
  {
   "cell_type": "code",
   "execution_count": 281,
   "metadata": {},
   "outputs": [
    {
     "data": {
      "text/plain": [
       "<matplotlib.axes._subplots.AxesSubplot at 0x7fb8bb0da1d0>"
      ]
     },
     "execution_count": 281,
     "metadata": {},
     "output_type": "execute_result"
    },
    {
     "data": {
      "image/png": "[encoded data removed]",
      "text/plain": [
       "<matplotlib.figure.Figure at 0x7fb8bb0ecac8>"
      ]
     },
     "metadata": {},
     "output_type": "display_data"
    }
   ],
   "source": [
    "import seaborn as sns\n",
    "\n",
    "\n",
    "sns.heatmap(history_1)"
   ]
  },
  {
   "cell_type": "code",
   "execution_count": 282,
   "metadata": {},
   "outputs": [
    {
     "data": {
      "text/html": [
       "<video width=\"432\" height=\"288\" controls autoplay loop>\n",
       "  <source type=\"video/mp4\" src=\"data:video/mp4;base64,AAAAHGZ0eXBNNFYgAAACAGlzb21pc28yYXZjMQAAAAhmcmVlAAAiEm1kYXQAAAKuBgX//6rcRem9\n",
       "5tlIt5Ys2CDZI+7veDI2NCAtIGNvcmUgMTQ4IHIyNzk1IGFhYTlhYTggLSBILjI2NC9NUEVHLTQg\n",
       "QVZDIGNvZGVjIC0gQ29weWxlZnQgMjAwMy0yMDE3IC0gaHR0cDovL3d3dy52aWRlb2xhbi5vcmcv\n",
       "eDI2NC5odG1sIC0gb3B0aW9uczogY2FiYWM9MSByZWY9MyBkZWJsb2NrPTE6MDowIGFuYWx5c2U9\n",
       "MHgzOjB4MTEzIG1lPWhleCBzdWJtZT03IHBzeT0xIHBzeV9yZD0xLjAwOjAuMDAgbWl4ZWRfcmVm\n",
       "PTEgbWVfcmFuZ2U9MTYgY2hyb21hX21lPTEgdHJlbGxpcz0xIDh4OGRjdD0xIGNxbT0wIGRlYWR6\n",
       "b25lPTIxLDExIGZhc3RfcHNraXA9MSBjaHJvbWFfcXBfb2Zmc2V0PS0yIHRocmVhZHM9NiBsb29r\n",
       "YWhlYWRfdGhyZWFkcz0xIHNsaWNlZF90aHJlYWRzPTAgbnI9MCBkZWNpbWF0ZT0xIGludGVybGFj\n",
       "ZWQ9MCBibHVyYXlfY29tcGF0PTAgY29uc3RyYWluZWRfaW50cmE9MCBiZnJhbWVzPTMgYl9weXJh\n",
       "bWlkPTIgYl9hZGFwdD0xIGJfYmlhcz0wIGRpcmVjdD0xIHdlaWdodGI9MSBvcGVuX2dvcD0wIHdl\n",
       "aWdodHA9MiBrZXlpbnQ9MjUwIGtleWludF9taW49MjUgc2NlbmVjdXQ9NDAgaW50cmFfcmVmcmVz\n",
       "aD0wIHJjX2xvb2thaGVhZD00MCByYz1jcmYgbWJ0cmVlPTEgY3JmPTIzLjAgcWNvbXA9MC42MCBx\n",
       "cG1pbj0wIHFwbWF4PTY5IHFwc3RlcD00IGlwX3JhdGlvPTEuNDAgYXE9MToxLjAwAIAAAAtgZYiE\n",
       "ACv//vZzfAprRzOVLgV292aj5dCS5fsQYPrQAAADAAGq07IMpSasR30AADqx/jLMAZavBex/yQoJ\n",
       "8rT/+XnlJ57ViwahiuYQrEFJI1+gxH1t0sdx5cQzJzureUWqWu+smi0KFqmmt4YmBpbUbBLGKMTz\n",
       "4Xsw0jLI4hWWJxTs9cWcn5sSsV8BCDKKI/RLi9EEVqK42YMrZmyI5qNOCfRjxTm9zd+d0cUmcK+R\n",
       "5eT7loz/Ez2y5bzMdkF2j8usDXXM24p74ZU/OyteGGBL12f5dkTrdyq0vAvL+OwpntOAj64x3Rvj\n",
       "Ef9k9BUiBhHqHURdf7TlejJICokC5MGyDcfcRQB+SZhBy6s9wAJGkVC0fYPzuKbOiX9NyXJst0ZG\n",
       "R3ypQzsDQsigeyzv5qjnHkHoi/QnZgDb8kLMxJMGl1oVM7PTQB3Uhn/L5DCsqXyrNaqTiRTe7S1Q\n",
       "LbTm1BQfcmY2HMuATsz0kUwveTOU2LwRYiNaXIJ/O8vAFU010y2FS+EjCS5yF3EEGb2XQ//3Omts\n",
       "69gAEjMrRAVgDRCi5EDyuK6NPtKZZg7X3aOAK8/awYOypJGCRk4bRc//YkK3QMlxmnZfJI/VMOXl\n",
       "b12VjL304g1xvChxpaFpCVEz5wD50byXq4VY/KhRScDNXeJb/LjRRJnGJCtZe6G/3rBLC/c266m5\n",
       "zOm9K0aaEKyAsPyI341TyBUCT7v70pFNKN0fkBTK1ZCcYI3/9FJibIPmFEHARId5F/lqNBtsNODv\n",
       "5RfTkmKmRDgjAQBWmQFCwt9HrKyXvbSjIbE1yNJf2Z3+I4jwOKN9IdtjXCM0nMqHOsWc0lSW0ByF\n",
       "1gbjhpAE3sYUaPGM6m0pPDwO08WlWb0OgYnX2cDuXvVPnqGK7dIB0YGkE72ESBltZyNKPIPue/53\n",
       "xUIx3of42l2/w5bbckhRrMmqsPSvt4sb771PBeMpMYimwUMakkfxRWfZfUgi8NsvkdLr5hjUmzKw\n",
       "+amEr4jHI/k9LozaAastuzKlRUaFywKylB9KpYaMXtg0r8uLD2MMh1mbMC8jV6X0sdukiGEytaP/\n",
       "oDeIa8TXL8tlNxpih+NtGoU3XNTLDihDRYYocUtaNo/2FYdZojXjheAATXNZWIj1L8z2yRtym6AN\n",
       "bDQCgjhHgNu7QTsIfhoVmmSNarmSEB/OTEHsGvDmzNRD6WUwsZExD3efiSWXHs0kQJ+bbZUfbNdT\n",
       "RmOD3Idc3orxvLAwLrVxmNNAMBVK3JQ/DkUvbbXS2F+SSXmNNgHK+amGxtkX/J9IJSxSEAjbWuto\n",
       "6BUD8Lv7FXz2HikbiRYuvA+ABg2y9w6Png9uAJHakuSQwv+7cgbENrA/Prz3b5VwiTYY/boogW7j\n",
       "OhnG4cHcEWvNZG4jEwC+IIELKZntMSlUkuwH8wYby4ZfFtgr61xEB8s8NA8W39eTF/TfLcDepMCy\n",
       "KLWE5UFPxv/2UZeLN9L/rjdvWJNXNCpgfgaE4dbw6oRP1FxocPpUA+hF9RycA2V84wZDDbaDTQsQ\n",
       "1jlzg26dYDs0lGAjzJJcNX9bCrSLMYX18rmWeu0DQ6Nt59FJ+l7xkCKIqyVlAae1nClTQOVtEi3L\n",
       "iaQCMN5obVAn82Rm/Ai9pcApeTDW+F4a00J6o7UST8cachCFAe/Q3azHs2aLTbyrEFlFfY9R2XFt\n",
       "vRWXCU2C6GeQP9UYzXwF3ZewO7ylq2DH7+XJRt2bhr5xiE9AlMtg+TqxFtVWU4zma+8kZk+2yGUp\n",
       "mst2ciyCUhZhABDP5UkZXaXMkM1VGMnyRgJHpmFRVojrvTr6GhawZ1xwqhW2ZoPCAigfn3t5tDGD\n",
       "jzP2SHFpaKqpdfoGXtCSsjrUnu9OlrSZNjkef2j9gw8TFuvl9SQ2DbvDEnZqnXurbl35rYfu3aKq\n",
       "fZuru5u7rbVU2oe88sbZwPua4l1X/uv15oJRTGp85lLOENkqNRL8xYMOiEmLl0+oV6iz8KkMBlYD\n",
       "pynTboxJr61xamIIoBz9txu778FJ8e5CTT2UpZIwZv02X8Pe5kjcqqrNuUZcZ/Sfo+fDuW2lsAwn\n",
       "h/f9RPAljgfcYMsNt1/AgQUseFwuTMFHJZWvZszRa53NAXYuMhhCuVQCbNpQBIVbEdQjroi3J+1E\n",
       "qcBvMAND140Rxu0g5UqX8BPNfwZWi+h4qAfCdBNeueaWkL7zbTFjj0tSHr+44oGX5ioAKIpNmUwj\n",
       "8Oc9e7EN8pTvxBDUuerwkKQtgTLl37nPT/5iAw8umsHZXY0g6hr9D6zUHfIZBZhqSplqAzjzGQIR\n",
       "SDnNob2mhe3LONUUNsH8lLD9NYRgLfHt2Y+3hpZp/0/wlnVONIXjPDRW70vLcEXGBr65o/p2PhGs\n",
       "ED4b6OD8++LtWl/s4tWyF5tCLr9dmxRYlAYulGVkLigrS4f8+/j9TLaj0tdeDIZBWeW0AoOkWbCT\n",
       "nomXELS21Le6KUOa1dItpMYXMGVU1eBNpc5USXZW6w95oEeLpqgNRwLH0qSCh/mW2iRH2balnz7J\n",
       "e8hbnLHcQmEdeWCY7OPVmoh7yxeV94uHhGT1Nf/lldQwyR+WTci/EjSB5oMd2BZ+QWGTD/qsydKA\n",
       "K+6PHYw/ObQ6oHrRZ9ORS/imA+SPf/VTrxu5pb5G3TLS/aVjmblsx8p3NYOQojln3AscvvYi41qb\n",
       "PKkhAolKr3zd1C3ieLCq6oR1SnpyzEoecXTfAIdXFNlSX69Ghosw3MgfuPXU9uuGaV5NLumDFL0P\n",
       "Fv/SICr8p1cvQzYy0AL0T88fDzey6Y/T1jnSB1J61mcxT2GFtnBVZWHU5kLSTbSv1esqiivbdTH0\n",
       "zoz5WylVTN0EhyER8rpX8upFqoysOz06qHd4QATL5+RcpNaXFuiJURUtTOchO8GIUBqyo+l8Dd5A\n",
       "j+Nrq3LVZi69PgEH5sAGLSglnjOZsHd6q0PhZ3oJaAiKQ/P5UKvhuhTlKHG46ykJJ55+Fk7GDogc\n",
       "KkJopwMLhJNzUk/9fag7/uRGdhL+/CJbT4IrmCBOSZkc+tq1ktM5hwppyHpN3W7gO1xmnHTADPGh\n",
       "HtsXk49mYTAUXmrCAvfEidX6Dp03FuDnel6ihYgstGU0U8bQvuzvX4t8kL/Tw/vToY13QCffogd6\n",
       "2n20/PMvqHb8SvW5GS1ErTQNdfRhLTaPT3+uJK0wC2N2IvzP2+xnTjcLR+KbAEP6B2CWwZaItMle\n",
       "RqzPZ7HTfyrEUjpcVCfCjxPbv6rbZiHvyEM4D2+Fhnd60pfBP6f/ZV9obAeqWeqiIvpmfVuxNMnd\n",
       "olM6rpcmTA47e7+xmE7IPX1RuWLV8BG1mwdydMCB879Mie1OAB0aFH+XStW1QXPRT1JUg0hqimom\n",
       "DMxqpka4riTQ/LHljW2ISNO4IL90tEV1LJ3FXegNXz6npL9cY9VBuIMp0DUBFrGwOhwSfw6TeYTs\n",
       "3Jq9yb3u7mKPYeIMaiX01ZF1I0Tnv37Vz1iD4E/LMImqPX+jkJU0eE/MJ2EjYaz9pmi2WgmyGiWw\n",
       "SJycOuP2I1Oo6jDXKVJoDo4D+zpGJpghzS2/Jtj1+TGyo8JS/AfF6Un6yG+rlHUBlXB4URDsx010\n",
       "KnpC2rPrjZHFm7uufXKnCUOw3VkP6NgZkOUMrs5avuTP/HFWpBRXzPAqNDaWtvsh7FosoAT70w1C\n",
       "Icv2kRETbf8Y/FK/CaPTC4HQ/aH8jiQpf4QuLwswpdNOh90wCP/Yii3HTo9E2OWAeuVAB2lgPGdh\n",
       "f1ItjzAPwjVCSsP/5AA/iZ/Casv74VWbpq8STYisoD4nG9uPFS2VHfpoSryMZAPC7RYMai9mAIHk\n",
       "zeoPTvihaUxgp/Ol/ftJ8ospYGwHPZR4KP8YhZQtgCvgts/Drsx+B0qjAAADAvZG9ZrjERbw5uy0\n",
       "M4EAAAR+QZoibEK//jhBnakS1nPsFQ1Ij5rAHK38bOg6buz6mTir/BGPi8ehxsib+a4kL/sApHrv\n",
       "azFTWpYOOmXwDCRdVn9I6yUTkz7lD+EYR9iNf7Scllv2GvOW6WjDdWPdjzRNP4iXu/JmvvQDzQAn\n",
       "cAQ9ibItmap49Tb0w2SyOXbZhitWfgD2gkb6P++wY0J8rTqjPCAaRGlIkj9gJKgfb7Nq9Htymn4v\n",
       "CEfi7AoPHnv8vAif0rVFrMcolejuTGounBXDyCiax11CXk9q/4bw1U7sqh5w3FIXk84xie58sv0b\n",
       "LEM4ldaH4H5iracohxL0srT8FJA1+gVmjA+5xEGCPgMkleWZfQfahZ6YhcLVJoi37WmdtrL+mCGQ\n",
       "f07+LU+9AXCQgTfovctrO9D9eoiqeroHCG4wzuRCrFFEHfJ3Fi7JES1We735fZCJWRG5Z/DJIANw\n",
       "Pc+l4tmGSak1kbQdh/iWKQUthfG3QZgfKjP62boZA63/sXP+3L8y1J2JRmC5ugkBZNMlsSHq7lX/\n",
       "SwyuTOM2zGxj4PSr160NMVrU1oLAkRNp4E7Q987ERcYFQg2p5GSWP9GOuzIMC2PBcFw2YUI633/C\n",
       "bf9vouRAU1w+spfsk5BRdCNsHuk7XtMRMyyzZHHVcxm6xG5tHtLx2m8m7933zLjFxQBM409iw8T5\n",
       "N/VrEWqX0BS1PdNRh1N/tqE9dO1jpbXsdb9ipfy10XQusxwxU6QV4DoiEwNaVu8OQEM3MEB2OhQ2\n",
       "5065AHiVJuS2JknB+YNPpH2Wjnl9e60gwOl0qVoWGNMSB8ncEVSnRp6MX9gNlP/iQPjyIckrlEjr\n",
       "f+owjMK+qwtMwgghb7B0nMwTTpwOxtXctPSHnVx0STJMH6lwdPAG0mUya4Yjk4K9Ml34cJ1kJ/i4\n",
       "2TRtZmmAcoPeHTNxP+BcdgLaG9ac9xs9Ba+klj0kEwF386nS8CyfrvbJFD2lcQgsPiiBHOrlF4fd\n",
       "AEBG9HJH3dDhvlVrYi5E2EWECs5wVSrlc2i8OR76vONKA6vSA/mIfCQepl8DEQtnuX2wu2SZvxuv\n",
       "WHEhyyCSwqQ6U3GlP73MVOZFVTxWyKejZb7X0esz6o2mX7pKXdd1Ejo8y5cjnTjIiQ8JW0CUNhGC\n",
       "+WPzp98uUHWao5vsToz5duVNsNz7iBh2xNrTCLICiTXrsIysiFBnMAp1kMzBiFuri6w89QGWVdWQ\n",
       "e8RAtlHGb2lo0bOpP9XevZ85g1U+Y84Ro2a1nuj7QbKVROxNWG1JS49l56S2MMKqLy7hoobNqNyE\n",
       "A5aiFtnHVNhqZsWLzkDBUyzq1lhs+vMa2a144NPm3kp7YmyaCfo5c/++rr6pujkEv0pFKm04eobZ\n",
       "/PRI6x3Wui/TZ+rDHwQZLbN9UYc5gwXNdUP8t5S2J2LLMQDw5nCXF//1YMQ3zsBLzAaNko7JhW8S\n",
       "nSdH1S6uBN0/H7ehp9Y92tiAiw+MqPCPmuzGAG3rGCi8+x/ARDHvRvDth0g+Pp/Z+4fc7nzmSdKx\n",
       "HAYl90f+0khhu4JRTEfx7gAAAO0BnkF5H/8DC/BOt7sAD0CCcGoSxNl6dXwLBmnnlcQvQgvYAASN\n",
       "3YbOdOhItqEdHqnaxrWQ4JCtNNla/FY5dY0s6fSs87ao1IunDnGGuCUq2UO2zi6AABVN8+g0dTD/\n",
       "n+3nSGYBWg7+aQI8ap0e9sRR61bIdRXI8mnC2zg8opZmZ/qalOqqvJzbncyj2fz1sRctCG/jXoU8\n",
       "Pef3i/oimhlfe6NSQmLeSaCdqLmyQLAoO5amGYVkWAvOwKaDkJiZPVXwPT3X4kC05M0iyWk+2cb4\n",
       "EzCLHU7C/51DxwU36xQcrlVl2vKK69jH7K2o0lUAAAHPQZpDPCGTKYQr//44QBdLVf4KFCAFvGlg\n",
       "dTIa4FufJClG5KD34HLkL8ug0r366Z4QFr9W8P8CwAXhz88JNEdiOghJVY4hBv3btldoIwDz8FnI\n",
       "X3XtUhrkDtpm9sSxCTOwAHyNVATY1V3CAEUz92LDMKXZzSBekhqbduOATOsLQc9hLBUR+/uJoipH\n",
       "qw5SJqLXMUj0/LFW09gT1SyGHziTiNPj+A5a0L1Xb4rTZxv6HO0SnT1CH+lG6tu4DE+VjRyBB1jW\n",
       "VyNJesnszEa3clogUuihW8gAGS/Qs9KJzScunzUtbADrpSyFQjhWM4vxFRInSIIpXIHSWlo9oL5q\n",
       "B1DEZa4WTNPFVxiwyh0W64Edo5nmjoyJsFj9g8rPeEUuqdOSQGAksmkDYlACxr61CPsHU9VRKFfx\n",
       "qHyRIxZqs/M6oIW3onhfApbm1LD0eXVa5I8juQAABJaSflw4wx2Wu5a9X3nyGq7iLRvdVkN3Y/87\n",
       "QBuY86+/EiM5RoOWzyVzLYCxNfC6ES9/8B3HQgfk+le5VC8ztqDmpfp26Z5zYizrFjoJbAxpxuU7\n",
       "d1EW8MS8QO49oe/Lf+aDxZiSICNKzBwh5fILCfEeiOUnwC757xgwcAAAAYVBmmRJ4Q8mUwIV//44\n",
       "QBdPUyAIFpb3W0AJ0EfzRR+pWPNmwPo977infBZOZ00ynIMLXWB6nf/sJ/n/fmWAAivY4LsrwJT4\n",
       "93Pdr8Y5b8x1ZjVyxz8Gcy3o98CefqfJiPu8JtKPC/8v+q12MjHvL1sIapPUhEIDB2YsyD9mx3u6\n",
       "tEU+8ixjDyH/67BMi8X4xlybsdH/biTsBqSIsSf505vbXrFdIcpaOLOezHDIZeDh69S9OpaZYWca\n",
       "U6l6bJ036INZyqeaoeJ16WsFc6PMtTxb2k1jf9Xz2H34jKstoA8bc6SfS34Qlj65wa+N/9uoCrp/\n",
       "6bAbYgTlLwLy5e/OnnugyOGr0M0f1OORgZRjIeSuImUWxBEpl9GZX984fLIqO4EPKzbdAGB+9qvg\n",
       "xyh2ZZbSfgCuoKf2jMP1VBaZTjL0+Qdr9IPv2LC/lQqN+v9tRhHWyWY5U6hC30obRy7Zy02RNRM8\n",
       "3RtRNrV7j+8Kqik/mILtwe9PucarTDxq0VjadDJGc0HVXwAAAeRBmoZJ4Q8mUwURPCv//jhAFn4N\n",
       "ZfYgBNXBHvPYr+qQe2BA4Q9TKHXlSnJd1xum/pLqHETPTzZRgmwzyxU/eVWp8LHqMBcgDNSbk51F\n",
       "ktRQhrXIBInxl+SkSPMevHtfPFzwciuIAFX79IYom7BVtB3Whc9mN5++kj79PQjDjTDuJ2hg5NyD\n",
       "hCnS6Jtu1ewLENct3g/xE0ECTkszZMnTO8SvTPX4+HPUF8reoFv5A90JS69tAEpey1dwOK3L0Xdq\n",
       "Q6Ki3GEDPtbJTKb7EuMNYsDyl83vuwkgZVntr0oeomOLyxLXtftRlLP9AQRcCQ14BMOd25F9qKxs\n",
       "OOPfbAKi6otP5n54ggWqzNgtm8TQMmxEcojuICRrXuohbf0LPx2BozVnrkbxWbxTbazNCpcucKY8\n",
       "me3z4w7k4SYnDyAfSirB6Yc7+fAD3cJRxmC7iUvcLEsTfqeIlqdEqyJGuisg3P/Rfv2S02+/ni00\n",
       "6xiEN896ZHCU04YnufJfnP72SSO4dF4AKoRhGZBlo3JRJrDLCZf4Es9MAGc3Ax0DfBMhzEkeiuo9\n",
       "BmDFdpd9kFZcc6kAaICtWc8e7u6xZJpRgh0yXjYxsKKW+Vwcqp3f1ODkraGmAovDIekJV18hyXSe\n",
       "ByMegPU8osErAAAAhgGepWpH/wLeji2X9GOGGDMJFqhbefJLw893VLj3I1iVzIh5qAnXY944SUfc\n",
       "YIpO82VjfGwumiP38MMSl+In+ITZ1ity5Gs4ct6cdpC6vOU54I1xQQf4FZ1+q3CYxAqi/MphG9IK\n",
       "tAMwR5zhYNscYRI3TP6npz6K5g71BHqDbmK1Z/QyYh+BAAABO0GaqEnhDyZTBTwr//44QBZjMfwt\n",
       "z1lhx68RQeAR1Kz2yfUJaUAAWio0NOFzQw29j4m1EFrhWUGHBxJ2j4KQ/KTPfwAVA4ZO9awp56A/\n",
       "+Frm2D2MVdYUJfWyrErJyV8CsOYBOcRhmqiKKFaRbEkf4l9CZIPvAR0EU2L9FN8Kzvg1yfTmXxA3\n",
       "/4NAhoyV06egQ7QYKKdXmrTOJnODlau38QeSEu7bKagY7lfi4av//dTfv3SiFbL4v6PgDOJ+S2CH\n",
       "ZORZrvATGS0cGAd/Yh+GD9ctdkdp3XWvu1jRyWubhuVSVu6/NTXbiQC8sj/bOjCu1w4Y7bO5mgAP\n",
       "MqeeRd3csmH5s2SuD64iVVoINmxqTSNghjvzw4Qf1beHcA9bUiN1+swQR2m6Ifnw+PW1M5bDMKGb\n",
       "Zu99Saek6GuHcQAAAG4BnsdqR/8C5iOFAosEMEiUVBJVsWfZmUwHQSh+zhQWfuWKkRG9l8q1LDG3\n",
       "eseeEjFr/Rn5upngH/30CpA/NcRErClDZjze6r8GW/Ag0RgrGbT0fzeJ9mA3kQPGQZmYAv0lmJvo\n",
       "DAc92j9iNiqSYgAAAQBBmslJ4Q8mUwIV//44QBZcr5RTvTkzrwAhDA3IghHOsWQvU3Q/EkBBoCTO\n",
       "OYRgQSPvbH7otOeIJofmn7kaxglVUGBHMAjlZtIrZacW2VnC1MbVKj/Qm3NCDBAXTOdbDhaJF3KR\n",
       "uJy/txFjCZKqdiArhMdy/QA69l4wtHYdQ/Bfkn39TuMbF5Y5a1zGrwxAzKxPF0e7OQFeZje6bDzx\n",
       "XvORhZTApdbMrg16QWvYtDMDMdRyxRETSeYDtMMtyUmd/hYKxACg7OyNaxkeiZgP1fXeuUibVMyU\n",
       "E3LzW095MpLXnqUR7ljVt2lgK6X1tkZT9QJY8ofIyFADZVa84BcaUidAAAABSEGa60nhDyZTBRE8\n",
       "K//+OEAWYysLGt/hPIw4ASxMRIaEQ/MRV/FwK7cgWI4ept1TedVX8gSRvAPtb2/fx+xftZU3nl7d\n",
       "gLMf7tdqiFIOy/O2PqnynJg0Oc+Jo40QLx1EK8O+j89DgMvfK/HAn1I3RiY/fIdml57IdwLwXqyf\n",
       "DEnZYfN6DxBMEH7oQAzsf/y6/il0PMLFqbQfH3UTgQ6WUbAtRjYu/Gyze+SX/S89ih4wUpz2QIf8\n",
       "8rbVSlu7jIgGKyLWJkYUjM0f/zdE+RFdX13uIkUx7si9LO1jHHhleI8bXaD59ggjPuUAi4JYGBmA\n",
       "aLcW1x7z7s9+C0qvVGMrso4Kh6Zn3KU3P+DgQ5BD5c3Fv2XvGOnEBPxzU1nCU258gTpRjNGbYULg\n",
       "S1/Hkm8WepgK0ixEtz/adG158HzpZX8as2QZVjzhfNUAAABkAZ8Kakf/AuQlHD72Kk+T/tRM9vpF\n",
       "fhYOddf8YC5vZumBpMrZmWIIgJCpxog0+cfIVXzsgqjmg+Cx+3bHd4s1cJBJy6hZvAQhP+AR/Fmu\n",
       "WNYWv28m4UlhXMclKga/wHZUb+zsQAAAAQJBmw1J4Q8mUwU8K//+OEAWj3OIhqu4M8Y31NJpa2DN\n",
       "L2EI23EbLx/TWtR6pus4+6LSmnKFbsaqKVLtgwX0+n7FvdKNzYe6EIs4owIjEGxn6eK52uPCaAUY\n",
       "9q+Y8Fxhzr2zWfZQOEBmHKbOIaou15Rlqc+6O1phb2QvPif3NpRsouFfsDk6eP/hnPpxWQO2tTrO\n",
       "fV1q+krmCBZ9sDsq1ZrFBmZxH1DIjxn02F750UfJzuq91qrUbJ6RLhxK5qkwMRYFJbotnwejuAhJ\n",
       "5Sm1Xgapa+I3SbyMbm0iO1ufEZkGErhpYtTiNHNwAjOjhzDx0cVJzv8PhooUokOvfmUWPJmMVeAA\n",
       "AABUAZ8sakf/AuaYDZkcwPp3xeKymKgrkvfpJzTTZYAqk217yGKBIjK5q4vXqNjWiEU/yhkik3Qj\n",
       "NavLT50wS4g738dK6r2ZXmlyUnOyjoi/Ck9z/TbRAAAA1UGbL0nhDyZTBTwr//44QBZjOMLwjuG/\n",
       "VR9SCHSid/58AAW1XrMsQwozTy8+yG5nLRVToXmvVHqIhb6kRQ6WtmIJ/iCTfUCHdrA6jz5/tzDm\n",
       "6MDV4T+eVzE/736WpZJ4j///J1ThqYAqdwROsW2S/4lvt8pLkijJSoRio2FRrC/M1DFrUP5sidmg\n",
       "WrsaNQvSYQgGPtPm0hJTXqfBsadrvVn8tEoVITQ2yLhoUoQikCI6yVIlMxWrizx8nCrJWWxQcS1h\n",
       "Bney5psrQkNvtTlCoVQtLVogLQAAAFABn05qR/8BdJSObk7792k/l6roisN8tg5U5FBrEtii1MjM\n",
       "hhIEPDzZvikzrWkc9zvi4IvYbrK1ssOYHuW0MaHIQ6WjLdSKpfWwg2QQFL9yWQAAAJ1Bm1FJ4Q8m\n",
       "UwU8J//98QAa86xmmuiAAcPYZ0so/XDU6pnsxdTiBK68so2wzKuWrA2HeukHxVHV84jxvcH2wOvj\n",
       "sCfGdeqqBEgh51kcEvRA0CTI4dRJgCqhzlBUrCuxdcaQFbhHflhEeawyx/REIEDWFcNbf2cCiUTo\n",
       "MsyP2NWnVGRwKfNif/+6SCcuWchnU3u/zRv1ALPZNUCKpxugAAAAUAGfcGpH/wF0lJGVThQAkSl4\n",
       "aUtvz2gLLu4PjUROdT3/yI/qVOcyeOKbwZ9pFngMTDGJ0M6vzcXPwnOXZdFSo1xD3XBZwQIRQIOa\n",
       "zf8NLfCgAAAAakGbc0nhDyZTBTx//IQApyyDPc3rC/RGjIJ4uhAfbEqQVYZXWlGGkI9BiPA6uxCn\n",
       "Y28YnsRiSrUyeeIBlHIpjAmdPeaPisZLTDG05cXOg5pjVObJLS9uUrDQ1KcYuo1A72RaVfgAg6Uj\n",
       "vdEAAABYAZ+Sakf/AXN7z09PyEAC6ABLNh45OLTfVgQxYtZammY4ErFidEZgj3WfxxLT9V5DyoOr\n",
       "oN3ULkpHJVEdLPG8eGT3mZhp29JMYRlqI0+VKfl6HknBUvaQQAAABBZtb292AAAAbG12aGQAAAAA\n",
       "AAAAAAAAAAAAAAPoAAABkAABAAABAAAAAAAAAAAAAAAAAQAAAAAAAAAAAAAAAAAAAAEAAAAAAAAA\n",
       "AAAAAAAAAEAAAAAAAAAAAAAAAAAAAAAAAAAAAAAAAAAAAAAAAAACAAADQHRyYWsAAABcdGtoZAAA\n",
       "AAMAAAAAAAAAAAAAAAEAAAAAAAABkAAAAAAAAAAAAAAAAAAAAAAAAQAAAAAAAAAAAAAAAAAAAAEA\n",
       "AAAAAAAAAAAAAAAAAEAAAAABsAAAASAAAAAAACRlZHRzAAAAHGVsc3QAAAAAAAAAAQAAAZAAAAIA\n",
       "AAEAAAAAArhtZGlhAAAAIG1kaGQAAAAAAAAAAAAAAAAAADIAAAAUAFXEAAAAAAAtaGRscgAAAAAA\n",
       "AAAAdmlkZQAAAAAAAAAAAAAAAFZpZGVvSGFuZGxlcgAAAAJjbWluZgAAABR2bWhkAAAAAQAAAAAA\n",
       "AAAAAAAAJGRpbmYAAAAcZHJlZgAAAAAAAAABAAAADHVybCAAAAABAAACI3N0YmwAAACzc3RzZAAA\n",
       "AAAAAAABAAAAo2F2YzEAAAAAAAAAAQAAAAAAAAAAAAAAAAAAAAABsAEgAEgAAABIAAAAAAAAAAEA\n",
       "AAAAAAAAAAAAAAAAAAAAAAAAAAAAAAAAAAAAAAAAAAAY//8AAAAxYXZjQwFkAB7/4QAYZ2QAHqzZ\n",
       "QbCWhAAAAwAEAAADAZA8WLZYAQAGaOvjyyLAAAAAHHV1aWRraEDyXyRPxbo5pRvPAyPzAAAAAAAA\n",
       "ABhzdHRzAAAAAAAAAAEAAAAUAAABAAAAABRzdHNzAAAAAAAAAAEAAAABAAAAqGN0dHMAAAAAAAAA\n",
       "EwAAAAEAAAIAAAAAAQAAAwAAAAABAAABAAAAAAIAAAIAAAAAAQAAAwAAAAABAAABAAAAAAEAAAMA\n",
       "AAAAAQAAAQAAAAABAAACAAAAAAEAAAMAAAAAAQAAAQAAAAABAAADAAAAAAEAAAEAAAAAAQAAAwAA\n",
       "AAABAAABAAAAAAEAAAMAAAAAAQAAAQAAAAABAAADAAAAAAEAAAEAAAAAHHN0c2MAAAAAAAAAAQAA\n",
       "AAEAAAAUAAAAAQAAAGRzdHN6AAAAAAAAAAAAAAAUAAAOFgAABIIAAADxAAAB0wAAAYkAAAHoAAAA\n",
       "igAAAT8AAAByAAABBAAAAUwAAABoAAABBgAAAFgAAADZAAAAVAAAAKEAAABUAAAAbgAAAFwAAAAU\n",
       "c3RjbwAAAAAAAAABAAAALAAAAGJ1ZHRhAAAAWm1ldGEAAAAAAAAAIWhkbHIAAAAAAAAAAG1kaXJh\n",
       "cHBsAAAAAAAAAAAAAAAALWlsc3QAAAAlqXRvbwAAAB1kYXRhAAAAAQAAAABMYXZmNTcuNzEuMTAw\n",
       "\">\n",
       "  Your browser does not support the video tag.\n",
       "</video>"
      ],
      "text/plain": [
       "<IPython.core.display.HTML object>"
      ]
     },
     "execution_count": 282,
     "metadata": {},
     "output_type": "execute_result"
    },
    {
     "data": {
      "image/png": "[encoded data removed]",
      "text/plain": [
       "<matplotlib.figure.Figure at 0x7fb8bb041eb8>"
      ]
     },
     "metadata": {},
     "output_type": "display_data"
    }
   ],
   "source": [
    "fig, ax = plt.subplots()\n",
    "line, = ax.plot(np.linspace(0, 2, nx), history_1[0])\n",
    "\n",
    "def animate(i):\n",
    "    line.set_ydata(history_1[i])\n",
    "    return line,\n",
    "\n",
    "anim = animation.FuncAnimation(fig, animate, frames=nt, interval=20)\n",
    "HTML(anim.to_html5_video())"
   ]
  },
  {
   "cell_type": "code",
   "execution_count": null,
   "metadata": {
    "collapsed": true
   },
   "outputs": [],
   "source": []
  },
  {
   "cell_type": "code",
   "execution_count": null,
   "metadata": {
    "collapsed": true
   },
   "outputs": [],
   "source": []
  },
  {
   "cell_type": "code",
   "execution_count": null,
   "metadata": {
    "collapsed": true
   },
   "outputs": [],
   "source": []
  },
  {
   "cell_type": "code",
   "execution_count": null,
   "metadata": {
    "collapsed": true
   },
   "outputs": [],
   "source": []
  }
 ],
 "metadata": {
  "kernelspec": {
   "display_name": "Python [conda env:snowflake]",
   "language": "python",
   "name": "conda-env-snowflake-py"
  },
  "language_info": {
   "codemirror_mode": {
    "name": "ipython",
    "version": 3
   },
   "file_extension": ".py",
   "mimetype": "text/x-python",
   "name": "python",
   "nbconvert_exporter": "python",
   "pygments_lexer": "ipython3",
   "version": "3.6.1"
  }
 },
 "nbformat": 4,
 "nbformat_minor": 2
}
