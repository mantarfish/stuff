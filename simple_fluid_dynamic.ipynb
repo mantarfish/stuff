{
 "cells": [
  {
   "cell_type": "code",
   "execution_count": 1,
   "metadata": {
    "collapsed": true
   },
   "outputs": [],
   "source": [
    "import sys, time\n",
    "import matplotlib.pyplot as plt\n",
    "import matplotlib.animation as animation\n",
    "from IPython.display import HTML\n",
    "import numpy as np\n",
    "\n",
    "%matplotlib inline"
   ]
  },
  {
   "cell_type": "code",
   "execution_count": 2,
   "metadata": {
    "collapsed": true
   },
   "outputs": [],
   "source": [
    "def linearconv(nx, nt):\n",
    "    if not nx:\n",
    "        nx = 50\n",
    "    dx = 2 / (nx - 1)\n",
    "    if not nt:\n",
    "        nt = 80\n",
    "    \n",
    "    sigma = .1\n",
    "    \n",
    "    dt = sigma * dx\n",
    "    c = 1\n",
    "\n",
    "    u = np.ones(nx)\n",
    "    u[int(.5/dx): int(1/dx)] = 2\n",
    "\n",
    "    un = np.ones(nx)\n",
    "    history = u.copy()\n",
    "\n",
    "    for n in range(nt):\n",
    "        un = u.copy()\n",
    "        for i in range(1, nx):\n",
    "            u[i] = un[i] - un[i] * dt / dx * (un[i] - un[i-1])\n",
    "        history = np.row_stack((history, u))\n",
    "    return history\n",
    "\n",
    "nx = 41\n",
    "nt = 2*nx\n",
    "history = linearconv(nx, nt)\n",
    "\n",
    "def linear_diffusion(nx, nt):\n",
    "    if not nx:\n",
    "        nx = 41\n",
    "    dx = 2 / (nx - 1)\n",
    "    if not nt:\n",
    "        nt = 20\n",
    "    nu = .3\n",
    "    sigma = .2\n",
    "    dt = sigma * dx**2 / nu\n",
    "    \n",
    "    u = np.ones(nx)\n",
    "    u[int(0.5/dx): int(1/dx)] = 2\n",
    "    history = u.copy()\n",
    "    for n in range(nt):\n",
    "        un = u.copy()\n",
    "        for i in range(1, nx - 1):\n",
    "            u[i] = un[i] + nu * (dt / dx**2 *\n",
    "                                 (un[i+1] -\n",
    "                                  2 * un[i] + un[i-1]))\n",
    "        history = np.vstack((history, u))\n",
    "    return history\n",
    "\n",
    "history_1 = linear_diffusion(nx, nt)"
   ]
  },
  {
   "cell_type": "code",
   "execution_count": 3,
   "metadata": {},
   "outputs": [
    {
     "data": {
      "text/plain": [
       "[<matplotlib.lines.Line2D at 0x7f194d6386d8>]"
      ]
     },
     "execution_count": 3,
     "metadata": {},
     "output_type": "execute_result"
    },
    {
     "data": {
      "image/png": "[encoded data removed]",
      "text/plain": [
       "<matplotlib.figure.Figure at 0x7f1976eecba8>"
      ]
     },
     "metadata": {},
     "output_type": "display_data"
    }
   ],
   "source": [
    "plt.plot(np.linspace(0, 2, nx), history[1])"
   ]
  },
  {
   "cell_type": "code",
   "execution_count": 4,
   "metadata": {},
   "outputs": [
    {
     "data": {
      "text/plain": [
       "(83, 41)"
      ]
     },
     "execution_count": 4,
     "metadata": {},
     "output_type": "execute_result"
    }
   ],
   "source": [
    "history_1.shape"
   ]
  },
  {
   "cell_type": "code",
   "execution_count": 5,
   "metadata": {},
   "outputs": [
    {
     "data": {
      "text/plain": [
       "<matplotlib.axes._subplots.AxesSubplot at 0x7f1940ba5128>"
      ]
     },
     "execution_count": 5,
     "metadata": {},
     "output_type": "execute_result"
    },
    {
     "data": {
      "image/png": "[encoded data removed]",
      "text/plain": [
       "<matplotlib.figure.Figure at 0x7f194d680240>"
      ]
     },
     "metadata": {},
     "output_type": "display_data"
    }
   ],
   "source": [
    "import seaborn as sns\n",
    "\n",
    "\n",
    "sns.heatmap(history_1)"
   ]
  },
  {
   "cell_type": "code",
   "execution_count": 6,
   "metadata": {},
   "outputs": [
    {
     "data": {
      "text/html": [
       "<video width=\"432\" height=\"288\" controls autoplay loop>\n",
       "  <source type=\"video/mp4\" src=\"data:video/mp4;base64,AAAAHGZ0eXBNNFYgAAACAGlzb21pc28yYXZjMQAAAAhmcmVlAABCUG1kYXQAAAKuBgX//6rcRem9\n",
       "5tlIt5Ys2CDZI+7veDI2NCAtIGNvcmUgMTQ4IHIyNzk1IGFhYTlhYTggLSBILjI2NC9NUEVHLTQg\n",
       "QVZDIGNvZGVjIC0gQ29weWxlZnQgMjAwMy0yMDE3IC0gaHR0cDovL3d3dy52aWRlb2xhbi5vcmcv\n",
       "eDI2NC5odG1sIC0gb3B0aW9uczogY2FiYWM9MSByZWY9MyBkZWJsb2NrPTE6MDowIGFuYWx5c2U9\n",
       "MHgzOjB4MTEzIG1lPWhleCBzdWJtZT03IHBzeT0xIHBzeV9yZD0xLjAwOjAuMDAgbWl4ZWRfcmVm\n",
       "PTEgbWVfcmFuZ2U9MTYgY2hyb21hX21lPTEgdHJlbGxpcz0xIDh4OGRjdD0xIGNxbT0wIGRlYWR6\n",
       "b25lPTIxLDExIGZhc3RfcHNraXA9MSBjaHJvbWFfcXBfb2Zmc2V0PS0yIHRocmVhZHM9NiBsb29r\n",
       "YWhlYWRfdGhyZWFkcz0xIHNsaWNlZF90aHJlYWRzPTAgbnI9MCBkZWNpbWF0ZT0xIGludGVybGFj\n",
       "ZWQ9MCBibHVyYXlfY29tcGF0PTAgY29uc3RyYWluZWRfaW50cmE9MCBiZnJhbWVzPTMgYl9weXJh\n",
       "bWlkPTIgYl9hZGFwdD0xIGJfYmlhcz0wIGRpcmVjdD0xIHdlaWdodGI9MSBvcGVuX2dvcD0wIHdl\n",
       "aWdodHA9MiBrZXlpbnQ9MjUwIGtleWludF9taW49MjUgc2NlbmVjdXQ9NDAgaW50cmFfcmVmcmVz\n",
       "aD0wIHJjX2xvb2thaGVhZD00MCByYz1jcmYgbWJ0cmVlPTEgY3JmPTIzLjAgcWNvbXA9MC42MCBx\n",
       "cG1pbj0wIHFwbWF4PTY5IHFwc3RlcD00IGlwX3JhdGlvPTEuNDAgYXE9MToxLjAwAIAAAAwRZYiE\n",
       "ACv//vZzfAprRzOVLgV292aj5dCS5fsQYPrQAAADAAGq07IMpSasR30AADqx/jLMAvF6C9j/k0Ke\n",
       "dMy//YAmY5tkXVJ0jQo/bDuF13UkRarawPrBcLoXoXJ9lYb4xLezWx9ZLVn/7FALszmrVi6qZ4Gu\n",
       "EIoEEPPbCDXxqXfak4gT8cnf6pfh8Z0wHiE1qUMCAdfMtnyBl9//jBvkUM4nui3OQGIA9WeNijk3\n",
       "oxx5EiFWWzz1mtphxg/Vqsq+kDWyHINJPsrZrrJ4OCQi9g8IS7InW7lVpeBeX8dWwQ31WAcwjUos\n",
       "YPQlelBUhuAawIveqjh5SSqYQEJp88K04czOVn4Y/Yhgi/tQED6jD52HN2oEntxzX6PUJWXmEetd\n",
       "Gaa2AXS1Np07A0LIoHss5vVIGC9P/fxzqX+g5QtJu6InMSTBpdaFURmwgKpNe6x1KKxI6toapVMw\n",
       "efiABa589ogB2Z3bEbR95eYhdwfnyowNmCLXs7UmXfghLJLtbLgp8SNrVu0n87823DXsBlA6B8l8\n",
       "MaRgkypNGEIjhRpD8UKKOWBy2TmLPwnvCd0yc4gGuUdmJ9GuRvgLU/BgXko8D8ihAECH3dGEP5O+\n",
       "kKO1pk61yuS83uN3BgrLMA1aY1RKyvjgL0mKqJZZwB1aSIHqGmXMWLN/BdpDNmkiBnvVwqx+VB+Y\n",
       "5vG8oJ7j8R8Btg+mTV37TcA30pADb2iYvFHwgEKKcXZM9sklwkRN+UkdsvediqWCfKMmKAO95Wcu\n",
       "qP2HJ9O6Vmizf9eQo6417U43Uqx6c25vlPYOccdUd/duQPKj5hsc7jdD+9cDEjLNQ/BCQwH89N/U\n",
       "Uw/tBkXJEaRYa4EnMkPmGWPDx/7L1+rzjsj9snUWRY7MZ29BIp4YEVQcHlDISuUdN3b4mjl6NP5L\n",
       "JQkrnPqqaEtjc4I3L5HvzEebCO1t/pRnZDnjP1fFzrze4ooPS68e121gzbPWJJu2qezhWgllK005\n",
       "uR/1rr5bHMapYc9XgOHjvBF2i9KViMhiFA76bAU8rr3Kp6Yd/2lyHuMSC4rQnK87Rqr9WOf5Ui1Z\n",
       "HyQjbJ8P6sI5KlTgk/ACl5qBvbGKSPeeHyV9aG0CJj5k/k27E0IC5cemVPzsmuoCARgYtqvVMXNe\n",
       "PHKoX/TIgpxiOSvbeMIWliVZfN+lnckU+rpUKftMa5fMZuFvwy6nRI7RtdhxI9Obh8yEDrEcRmPg\n",
       "MgU6ZHtG1z9kO1x4wj79/IThi6VKAbGNE+w18FpnA1ca0XDFqjQ9H9FMj6s/EDRJQNktgXvTaIcJ\n",
       "sfhOi1Lhrno2a6DJbJMQKyWtvEFjtXMKQPypJGCr+6zKFxysU7p+kZqq+mTFVvUMVETsDMrsWsn5\n",
       "qNxEphRwHZ1LNR5Z89J0tkJC6XrHsh8NJlCO6onlD9eIQVr26SxvzP/mzWA7DD5/5zLPlBTsxEhi\n",
       "/5r0PTZ/VRS+IRdipoCv7P/xgjzm6f6+MnLWoNTXa4JfMXVsoOJybZOK6al9oEvzlF3I+zdktZ+u\n",
       "tQC7cVOKsGpvx8AqWgQaE4EXiyqq97DjtXy/nRezEhBPtxq1yw+BcZf4Y93pDx4/Ai/8gvu1qv5z\n",
       "gu8anU5Kc6qUN8lUxv56PVxC6G+wLfao+IwC5S4w9h93qiVzYHYKMIDalgYXj9Lbmqo5CGwgA2Bm\n",
       "y+Gl5TdiDTGcDlteI17P/S9lLcHU4Cj5vPoEg2BDE698SZPP0CwSsqHZca0+XPQEy1n24e0Este8\n",
       "Gm/0K7AhC45/Pte0pAd//y0v67vW9QyuWbjl1VdLXwUL3AzVlsAqmWPz8vEwoL/ijh3VWwyfTANW\n",
       "oXW0HLOQ97y5IR4OPedRY0KgTVX5+9dVYBh3EGLlwO1J87bnLyBfrOiRg8Ibm4ksAqzyzDvF/WA8\n",
       "xPFq079hu6U0v1EGc9mQUtg7Ohv31BqN6XwWZdefzGmgzGOmCmlAPBioc2FLAuNnbBaK+S4t4Sv+\n",
       "MH96KmTWIqTMgau9EdvlO3ZTdQLq4igY4/rZ/kzTx0yJ07E29Wlw+kQAwgAHbNyou+Mf6UBM6HYO\n",
       "mcsTFG7kypFfm+G84S9j4B9pks8qq3yN03z/Oz7LMjf42UVEvb0FF9Sg8Xo19APU76dGxNZ/ozeK\n",
       "0PlvZ8ijkVLcR1/GsxR6X0B1WBSc0snMs9L393cSVfXANtnPy6sKW+I8lltV+xVBQwgIJX2QwaJ1\n",
       "3CPkSOmLWpjGxNqzEJiw0hJfwCzAmjjqnFQn+maNGEuUkb3e3EbHNpM5yIHHUPHtEbhwddAmsH6D\n",
       "TumJrr57RKLVPQwPO6nutAk9pSeJqIGMvxzVT1Kb8kZRuExfQGb75oQn33voCRCL7vxPBSMJ5CZw\n",
       "3sf77yYfAm9XjSDwaEodw8p0y2nJiriMo5svVcS8qhLlMLxPWLjzPKrHw9xgVIX7/XIxMPbZ6rZd\n",
       "7WMlNfjN+3g+VIWOJRX//KIJ9oU62Q+C5WXzSN8Kxy0ELERplZnlmGrYb5sZXlJI57/pcCKUBE/z\n",
       "kotOiuOBudBGdKnuaHpAV5HLAg6tUxbsPirkFvI8FJJb3EEDbWqTg4qELnZY6Yi4iiK1ZTG45EWd\n",
       "bovyYfRB4Fqmbri/sMgopo/Xfw+tJ6QrbOnS7bZs5ScKTzUAvNjKjpVsxS1qLeAodBgBORduVKwL\n",
       "1hVbM66pu5hkToga6pP6LHD8sAiFJfCzGn90XDaBaoQPONtZa6B/Y2uyJREbu6BUP3eM6iLHzw1m\n",
       "taR2SUJcLdf3fTFcGTfNpzVAsQuNutyt9Gjl2XStGaC1SibwMvheKkJfVe35MfqB/ic1sqn1kFxc\n",
       "IdEsdU1ySZmO0QzROn865t5aeTn3iaZoz7NgKy99ythHI81NzuczzfIYFwbvozPAGkoWjSP0wDev\n",
       "IjDKadWILsfttBqFicL/S8p/IcJMt2ZdESxugKcNn2AdoUbpZDBWcjJQW0JCTMjLv0WE9Y475Dov\n",
       "Hj2JAkXxa38ZmiTgHoXJry//hbmbOYKaotc1ykmUHh5vXlUE5H7r8d7s/Uqa7mT4oQmIM7lg3Cje\n",
       "964wiZELy6BolSDQLzbtlwxoGT51zyMrq/ggZYr6YLMX+WLXE3jOVCKRTocHBzovgFdPyqsBm/61\n",
       "wohjE2INSPp5GkfbYrpt4HNpfshJUqEFo9pDovYRx/VjEdpOPC8glDeL+RqFgwvlF9chw2SYXALw\n",
       "xVltH+E6NIzTDodTlZZUrMCP4Y18i8ZZwgCFxXWJHzbKUi/rK+NFoKgnZ+QH4AUCyVLjF7Cs3M40\n",
       "9hnEq3Vmokm+icfQCtJ/1NFo+B0kCUbvsPClHeRi415E7zN9JPl6BsTUSYaY6TEfTmSSmcoa6BxL\n",
       "4wn44WoB5TjThgpotkuOhxRykvZCtkoaUsqycY4fSR4vsq/46AjVJgErSN5+2Rwuwku1tq4h/84b\n",
       "pzwW0G9AKHlcz89Mx47bOtv6Nu30qkBOpLCXeEV6tzGL1haQalEEnAN6XRtOSni8ej62gGHoY3Yf\n",
       "YFd8Pu9NV971P3zfSL3+PLAr8V3B7VkaK4Lf5lzvtIb/A0yx7hwx7246hkAUkmqhijRagmjz8Wi+\n",
       "EUzoIc6l5DACWNImEJmmuB4eKYJna4ZIZhEdMZkBRzVyhQ4V46kqkM8Qvdze3y2PKe6GIpGJrKkE\n",
       "sg7k537jFN7/cQ87OFzxVnOzn0v0f0KLzRg+tO3mp2Y2oK18sYOaXMrj2ArGe0TXzyXTxVktv3ks\n",
       "rK2VpeHdRGs2p0xl58hbricWIJgW9mgfROKvTCsUbW0PlmLaUXav/zlIYXChTQZPoP68XZVbrO5b\n",
       "Nsf47VCNXEutcPjGP0ir3uLgte4HA43lHaZo9z//M/SyHoBMffc1/nj9BR3ujDNgAfemGoRDl/NK\n",
       "htcDE/8I/XNWUqPo7IHQ/aH8kDyOb/CGBTtGH6TrQpAEcUrtIFYns9YpLuv+oCXKgB1SN9vv185k\n",
       "9lqJKOqLhZIg8fHOIKENmpqdzPv1L2OKO+K9rShQ57VxnE9H63243usN/rd9AZ0MkA/jr47vEZwB\n",
       "Cn7Ds3PAw/hXmq/xNO/+02bOH2U3FElpINigB4wmV52tARuv2dNXCF2IfHOCOuzXhvk0LvcKQAG8\n",
       "x/oXCJI8A6cAAARiQZoibEK//jhAHWfjIB8aEu8mOpkmf8E7njeb9kQGj/m4kL/sAxCW8QMhVaAL\n",
       "kQ1bpdAoaLpAYm5FGPqKAVEnJfzbp7pmOUh4ZLrYIo8QW1fFaw7seaJsQFjya2NVrVzkXwkdJM3Z\n",
       "c+pBFXWTo6xslmSUENjWIvyHl6dLrUt7dPDOcS3JBnk3ABsFSycD93VegjBN0e3KaflEFD8NQ3C9\n",
       "EN65iOAU/vgOD19UOz/2y5TZIbfpVVfbHGbBiP1vYgU5FlT9ZpoqGPiHsSjO1zZnQRDV96BXambB\n",
       "lhlBDOSaBirCawFmZ2ksYbo06Ktry0m+sheMQWaKx3Orns8VPWUggzW69YSZdxLgv20QyFcGV/1F\n",
       "l+mLcdR1coafy7NacBdmm2dDYQ8GKS5fOPkbvV+tmG6+NXBgNA7jM33DnOIBqrXBguVhBZlBh3Pu\n",
       "flV9UXwnYiHdwtYnvKcMmSBuKzxfacoFucVNH3Lg+lrCd+25Hm/mgZkrn7HDF7hW60OjEZL+Ar8A\n",
       "fIDiWvNh0hcZxNh+pbPdbe2rFrumqVkpeLGPaMBN7c4FYgi47pkcnXnkoTgV/SlNuCqEcq4otfDi\n",
       "RHF/C/WPELlgEvP9xsFglQwdAano6sQugrDvHLjCqFn37ZourkJynAhgFtEZjJUYlwIg9G1SU6lo\n",
       "iHZWq0N8IQ/ixZqG6dL0eINHDgo1FGzYm/MsqiAXR8QZ7NSa5Axonim3kstDBEfbiNQZTntZf6Bp\n",
       "wfYbjvIM3WjPZWh1/FpBTkKGJeLJ1uF9SOHT5/Q4GkMr2I3xdCA88rmX8ZTB/kt/jq5QZNXMMBdg\n",
       "Fq/roDMZu+5o1/As+y4s1WuYsqUkk0SJ0lkCGpjqGkLNWcINOQygXHbbI5AG1tREHZXCmRKL54Hl\n",
       "n4sNsy1sYuKOllM9AkUbsyALkAs8MFSayvAuKKll97ZwHSD9ZsoiXf4t2mEDeTgo+uuaVDJ5nEc/\n",
       "+itS/s3rWZ5k73QW6WMraI8UmmaDj7jRJ7JUsyId7IGx1DX5qL4JjIizV8gtELGatv46CUru7YHr\n",
       "K3s3hO24tgeaeWFQ3oBmX/NqYwJaZh61n07FCrblAAcBiYRYKt7hqpQXNq9pNnLITAs3gzj0Ao6N\n",
       "JlgcIyP4DBDPOwJ08aJPEoqDn+dAetG4tvVIN9e3d6e4U+uwSANEBBq/0BO/6fujOXWAPrzGSczN\n",
       "TV7IEIzKeNmdnFenzednb00RaIPE+vG9W93kst/6LzkPdKePB4JbqXCaocb5QBnrEDfwM+vq2Gnu\n",
       "Cp6cXN+qgfcuHmuf1+vmkM4wE03iD7MVhtAgCS3PpNQdhlrXn+qULCUC9V2qoxdzQprMpByP8wii\n",
       "RS7BXVhtPVkhufIs44s6c+SAaeGC0Zc5BP/bozzKCD28RvU/1M57Fqchdl3Mr9iQjBXxNG0SXbdb\n",
       "1JydpY6OfPDK+cFNanXXh8Rml1qohSijJgRH9nNqgpz2qwEEEsp2SlIQIctSmVTxxfAOAAAAzwGe\n",
       "QXkf/wML5whaVI/a3uAAmqmuQOPyQAKwAEvrwx/2CAcHIPo9U8p+3qdjoT+ltTHLrGixWcd4QbVR\n",
       "jWFdyqoc/7vrugYPhR2sudrMy0pg60n6MqF++3TeZ2xhVkgh9IYPBmv3JVtptO+MsED9VNvxp3BG\n",
       "0AvG76BGIQGYQUiFwb/6pHpvZZUONzk3dPTScLM69VOZqfju+PYdVHduy83kz5s4C3QQtgbq7fwz\n",
       "KEedVypBP/6zwSxNKlPAOUtwkq4FmTsgTildFzYWLK+8UQAAAbhBmkM8IZMphCv//jhAFxjdWWrU\n",
       "IEWcAJnZ/mErfCRJunZbc7Euz+z/z5IDt/DSd3maPzwk0R2I6JNaHFQlvJmzX+qDe6O3GeSeUFiz\n",
       "5se1myRnvaXhgO/mrGp1RLzP2ezifSiOECYdfYzW9xa4TNHFIgci0PJOs2cMl9l81UClYA8v9zwE\n",
       "B5JHp+WKtu6w/soZndk4k3E6U9VorLFpUxGy1k4EzWwixAkHvdjs6x0RyHWUrPTdQ4LoIEVY+Exw\n",
       "QsLNr0jkTYSa0SBYLVs872WIoSLGOHd+mDdATISqyeAlweJLQGHzNZ4lZshb8vRymhnk12z5wYRX\n",
       "WV2g7jx1u5wgjb5HcP5oiNzed642OueO2YQy53oypTl4SKkymffp7jsP4dk3bkJ77mLlOXyeJOVw\n",
       "IIV537saRNAA7UENLPoyvDHnowEV9VTJ+VOFYXStEOho4HwdPly70atvqrGpjd44Tsn3lc29mLIv\n",
       "8HqBKa4JbjN0oZquLoA90IAAAAMDBzh4HfDRI8n9tKwMiIu9OC5Vb5JUQ+UPuzwoU+vwWDNBWYdi\n",
       "dqSfhdDmt02vyMepCCteZ9HwKRf2DgAAAYdBmmRJ4Q8mUwIV//44QBdOCxIstgYDc9VkU4IxigIA\n",
       "0+TIe0YT2PFqqUYkaAUH6t9amqG1fkx24biQenj8zPUP/CG6pocCsm2HBO1JCJCno1NhBBtBHtkN\n",
       "Tm6aEW6D/YPvUo5ZIhMBTz/lFoIoiU/fZE05zFfdD7SwjI+BUff7BdlTTIjUri9m5+ypLgpZg7Y1\n",
       "rCSVEEkqOMubjMwcnf/6jHkZZoxmyYhhAxMam0stqwNIKlxCw7EVmHO8RUl98/uQ7YGSoHUYlh31\n",
       "9RpR94uFWP4tZLg2oWhJc8O2DU2qrhjpV9xcAM6jQ/lcll8HjxuMJMHcW6nBLQMdCshZ94mTF2VL\n",
       "W241zGO6oRnC/cw5DyPLz+keEN5oBf8DwMls4xouxUzPzO7zidqwcGMyAJ438mDdyFaxLd9EG6Kx\n",
       "JzY68YKWzecc6J04fbBKTWD5e5zCPlHsrCh0JEMzNdDRfJYeuMm8m2gfA1SnMjrXZWCBCzlY5p6J\n",
       "AJuOZCwwW8tznSHfVr9ARiz5AAABtUGahknhDyZTBRE8K//+OEAWddpAkXxNgAnQeLMlDWZRAp3Q\n",
       "KLeO1IvgrZglJj4x7nIvQmqdytzRt/NDX1JiZ/z4YKVoKp146iczqkjBP3sZaZ78JYgTAFc1xsTx\n",
       "0TpD1XH0J9cpK3L7iWumtakM0R3/syD9YzyOVBfvRFlo6mAlVE6e8J4xvR4WOOR2qrmCHS74MskX\n",
       "G6+4XwQ71bQ65P/+Ub9bcEyJMUyFo2dzPQMgULa4uxSJD4JrNBISd4aL13vY40NSJ2egfnSlrlBP\n",
       "qOspFws7gR8ZlzFL0Q2gHQ9lSEKomaZRbcNYP0xs9ydgfpJYI4FkoRi5WwmMTDev+qQl9qhK+QhS\n",
       "QGb0dy4WgPTqo6lVD+hNMmBI1Nc6XcweLADxWM0aBjgUO//Pm/Wgb3Mw7RH0lptS9OLs+l1UlHIR\n",
       "anB1evY0v5xACtInboZ4+S92465cXDHJLQfhxXkKSrpXACEKNrghZ4vb+O0rvBksDul/xjqiXzv0\n",
       "Y0etTvbCD5wkyKasob+vbI793e8b6jnwxh2+1mSKTl/WMhrD8cioFy7XT2wxi1cKBvd27KF5jsYY\n",
       "XRrpAAAAdQGepWpH/wLk6YnxXdJg5Kq1UUQUmCDmwDS+gm2Ez/N3QN9k2o3fB7WPQF6XPG4g2N9R\n",
       "sBmr57xqSvpuSvADZeGDav0wlFlxTXL47cOe7Ok96reixhZRu6GytmtzH796fo+aVbxZZCvEU4Wp\n",
       "UClQ2zKk/7D0vQAAAW1BmqhJ4Q8mUwU8K//+OEAWYzH8Lc9ZYXCIfKcrKbgOivI9uysAODIYScSB\n",
       "gJ+xbOU1S4grA+LLsIySQPG5wo+Ukb9TXDDWw4B68609cLyaHjXAKm2WwgknzisENpmbiIox3MJ/\n",
       "bWcBn9L8QLNvibff5y1fW8wk8nO32/1KP2Bo458tvFkyuu11ZxI8f9ptEISMW7/Hkm29mN3X1oFy\n",
       "6GGwInvEqHvQ8Zvi1thds54QgGBCMyyMiW5B3cBZFKLI5M/XChS+6Wg8d0YceyF4b7Rvqlg0egVa\n",
       "sdzHcv8BT70chfWcTtuemj0kd7Z5ev1JqRgKo1UM96t0aORxdJMfOl+zb5OX0xANnw+3PUlcXYsi\n",
       "ONqvwUQTOjypsFIIhh58wvzAqpvrgGxf82NW/M6NA+6OKyDcRP+uGKcfNMfNtn9rbYTFmfR12dP6\n",
       "S+KSsD9tDyxNZIzCKB/ITQfv1G4vTKJ0n5nnUTrgYZdqd1Q9awAAAGgBnsdqR/8C5HozEGJcaQNG\n",
       "H1sj1INtVgMR0lLmVUVTuF9gTgUUFx01Qs+hnkaya81j6PsMQFzFNXGwQxZhYieH49yfzGY5d/FZ\n",
       "BpU4+hB8HofMao5+vxeZZXLP4U8awLs5veMfxS6WwAAAARtBmslJ4Q8mUwIX//6MsAXe/1LksKsR\n",
       "AByzKotrt99qXxNSs/7H68yBueSPg7dobqCbdD3x1e6y5GA+J00izjwXQ9tPwa/UMxEb9OraNva5\n",
       "SUYd6YXSfeo6sQNlpGJlerohYjD1snKNsg0ei0gUDH1N93S5oU9IRonE9+dHA9qiVAR1kKIDE8If\n",
       "v4GoLDygnnmZG982dFnKMS2N4ZPhKCF3T779xI/b8kpJrglOJPgwENm3HI7X5z9QxBQKAz8uptOl\n",
       "FkrwwP02+kPVLN4RNVV8NM0Pw//2bJ/SV0XXZNU7sD+apPFKjJvVdTGlWrlC1IWwGsWFzonfWmfM\n",
       "iKWpxIqxWf/uqLeUfqz/YXEZ863HqiDiNw+GiedzBqYgAAABcUGa60nhDyZTBRE8L//+jLAF3uVt\n",
       "5j/Dj+YAI21ruco++1GHRBqosTmbnga3KET6yCcpxQQ2HGQ9e45mFJSwf4hatJQ5c5Pe9T29IKxi\n",
       "Bg2+1oCX7+XZwR24pT757K7fzJQPdYQ8Uov+EYoZm3Xw2ylsmNYQ+ozv6EbWZ8Yct28+tqeMh0VU\n",
       "B3sNxGV3m+fMFNsHiBjLPPPMpyHW3szsj6eZc63n01eXMhiDdGpZEkD0jJVFGfe67xvAZkAWhOLL\n",
       "KnI/4knwFlrO0aQi17MLsFq8k9QhQSAnvlK+7wi48mFzkCgl9iw+0JWxCw653QTEd1HyJ82rAxJE\n",
       "FkzxAC8EOQ0D+cITFBxgo6gfSEKoESgiM+vXL3lShQ85uQNkn46u5ZozQ1mLVtdcCjhRK0YXMwQf\n",
       "2V+2yW+eWbZyePhrE+72KjxtEsZh+h49Nz5uL577i6Ru9IzkU0L68kK+EvWH+HpivlGTsLCmVA9K\n",
       "DRmfuvdruwAAAGIBnwpqR/8C53c+rXKj2zH0191CvA0pX5vQaySBO4HgIBuUF3dm5vn3d01ALpOR\n",
       "ysbKM1caGTQeCGJgmY0Sdd6EG4cK0bMk1iwn5+stobUBXXuW+1S7Z/YBDzEtMZdNVykaDAAAASJB\n",
       "mw1J4Q8mUwU8L//+jLAF69RoI4zbOXABwfoVotMgdns0sffObRQnS0CdV+gpk+5cAv50AiArEn5X\n",
       "G82ot9J2BuZRimRkLR66zck4KXXhbXz4l2czbLOcCplt8xUmBT5Zx4/c3fA//bQ2dDrIfaRoKy1W\n",
       "yn7f9N6C3zawfMWTN8Rp2mncbu/8QP7faARgkQ5sTJGidcCAa2HnMP9E/hARlClRLloTzSAT0a0x\n",
       "+QyuF40bbk2y09jcYVCoC76BAD1Eq8GOGEeccsDaJjxXgT0Aan79ZrWszhSb7R+9iU/EXFjXbPAL\n",
       "kgP/iqLd021cbFRh32Bxw6W/ZPQgRoymViXtFT2w7eweS5ykdYHVc8tFLdYTohukP+tbc2ORCKCG\n",
       "mVOvvAAAAFYBnyxqR/8C5pgNmKsEsWZMZkSfW//xu0JIqxZFw6h39STH6ukbVPxw9j9XCKdSeGpW\n",
       "pDUTR/uNiT6T2+YKopuVqFF8C4OJHlE8gy5hKPOc0TT3+GoKMQAAARdBmy9J4Q8mUwU8L//+jLAF\n",
       "3viaf1lcpQxGOIvn93gBa1XHuOK2lAhNzwsFmQUZiIl2Z0en/eWRxgQaCew/b+gzK+aPM8kKuAUj\n",
       "EQoMgvbPTxys4gs/oYd6fQASu8hUKbdK3/Uo5WX8X1u1ylTzaaMaAXW8//uWTs6yw+23IsAXB3Ew\n",
       "wNQUOgIA4JOUE8kDcbk1UFufC+poX2TMECVD/Ler3HojSClMZ5J7/Qk+QRSBTOVWLdtwmbNQVDjw\n",
       "G121SVaB9He8xbflwbvYanqAvZvxRxN+9yHT7zEdmn14Y2lcuYdstg+F9WFKYcs3+VFuxlOevamh\n",
       "ltmALiWPgRrSWq/nU00111LhLxQ/q2wdn7L+eZ77IkVS3hsAAABTAZ9Oakf/AXPL7z0iPp+YLzfs\n",
       "pdDBMH46uIaTHcK5DzN5LY4Y93HSyQf/hJowyjp6H7od0LJbhq2W8D0SdZBMHnh/PE8iI09GA11C\n",
       "BwQTvHjEBekAAAETQZtRSeEPJlMFPC///oywAt48tu7kjACIyYpHybz0focBNn5Dl5X+fk26VQ8p\n",
       "HTPnYofmIC+evKktmhe6OIs0MYnIDGdbWg5QteRB8DGJcnN+GyIkcGHeDravo5nQtsQ00/V2Bm77\n",
       "/hCq4cwtHEDY5muph5J0/kYDdVW34M7BPoakvtwneuIWqxzqbIjBCyrTkFeOL1LZ//8Aio6t5n2/\n",
       "QO8G+jqQYAoCBlIn3EbyRjAV6XJb2Xa8pA6THX8K6cLYuByP/9rzYGctTLPl1IIzdRdj0G02AVBf\n",
       "qIP8bp4qrEZavnU5BPAdjbbtObx2GJxucTQj/+0UIpV4yrSyjt2tzzdAdPwcOi3uyjcnkkeXluiV\n",
       "8oAAAABLAZ9wakf/AXSUjm5O++Gg/IjfiNOG22cZsrA4Ont6nrdS7w8g33TlT9FAzbCI1bXN1tmb\n",
       "d4ndoOSf5ap2e6zO9qE89HxB4VmHSU9YAAAA80Gbc0nhDyZTBTwv//6MsALbxZ3r3eekze5PnQeQ\n",
       "BjJ0eAPWfpbtdrIrn5QLT5UhVEpRhmX9s8z0dRB0OmEKgPLhOeE1A3L67y4Rp1ZAKjtGyS8EgVt6\n",
       "Wwr7RFpoLMS3r0+AGQ/8J/e7BA3zf3FyoDwDeQ9/v7RDlpvg1z32Ihj6X203bE5lNYgGJN2iMT2g\n",
       "Z5uIcMMbgFqGtkcmuoByKq7qYM+zhaQfFCWA4nw4zqbUaJUbmUpZlbM0SfpucNW35+t+Xed62i4Z\n",
       "qg1U3YmMA3TT3eegeYa2ng09IjpTyPSs/aNNYDJ304qVb+1MCcN1isM1gQAAAEoBn5JqR/8Bc3vP\n",
       "T0gVZWIHmKlZRCPrU7cLDxxRoeL3bk68QmPJOWOBKqy8KOhxdF95gUf+EXILbBOX0bRV+ikEwv0Z\n",
       "d1sip8d4EAAAAVRBm5dJ4Q8mUwIX//6MsALf+tlklNCv3SNRr81Vru4E4IfdUXHlbzfMFv3/5YZZ\n",
       "7XXOl2jIRbfgLAybfxYcvR2REEx8hp6TJ+oXsOCvNmc5FOROqjBmR0/Hw5G+dfWlGW0s0JoiKtOy\n",
       "pvw5b2OLR1VgLq0QmcIJknJYLkKL6eKAz1WgIt6WP0Hlgudf/HVgE9lSP5zAVKWG06yBMolHPGEP\n",
       "TRxNS9WdsmPOoJ2Rxuvkctf/WEc+og+BoK6SDETJIk2vYMMYDhSp87XHgl1to3Q8RQSIFIHj6iQ3\n",
       "9S+6gAvTykoTqW4/qcpGDyuuz7/r9tZ46qmbLaRRaihELDgLVcX7A5LWDe9+K3vb4Q8czQSUYSsm\n",
       "TMdwZwEBYS/5m0xCUEgMwnjNRSwnpZTdYUOpW7GMoSjtcqqZnUCuhGPwoNHiLLx9xS4HJQZz1bEv\n",
       "EpgpagaOkyksAAAAdUGftUURPCP/AOfenSsyGWk8kgrlt8/pkvAT8q3v46avjp2+h+h8JYP/pscg\n",
       "HLDWs6aV9UG4MYqU33NMCr2HGKb9rlIbWA5crE83A8ACms9oZmnVW9klTg3FtRiaTdBIuBNObK5d\n",
       "vIXzEViJ/3ic6srTomnogQAAAEYBn9R0R/8BdD8X2gjhcOY3yU7/6W3j7TM8zsGUd4x9KcppIzKy\n",
       "t23qlbgKZDKSZjO2fFxe3p7LazqK8hWrFo7ABibjIs6AAAAATAGf1mpH/wF0lJDASJAAbLoBl4AU\n",
       "/h22N1Ww9BXBYS2UKzW0lqEZORycAnb5cweJL3mFHFVYioxcw8dZi9fDRcI7xj0wbUaenWBxxoEA\n",
       "AAESQZvZSahBaJlMFPC//oywAs3MuY2mm0u7vXwIALYunrr8N12NxwM5EqXDD3o/IkOAjgjC4zID\n",
       "0z4pCITgVjrm1q/gvi1GjSpFV/DUaj3HjTKY3rrsWMT1Xoex4zsf/k4jZsXFX1ffoKcfXp0U1B2a\n",
       "op7AI5SQQqVINl2i61uWoaTolShewSYGhK0yYWzjtvLOFU1EgeTto0E7EAIz7xZjXymHWqjx7ljt\n",
       "DgxA4tG35BrNKcWKhr033NKd1xUW2oT6b47e9B5t8cm1n9HiimchQTB294o+MjYWNUsPKi6WA3Z5\n",
       "m9+ORZH2LEXZ4WJL0ei5oPrCqRa/7P/bYz6NUk353jZ9rZG4vxsvgPuHLhaSXavvRwAAAEgBn/hq\n",
       "R/8Ba0wG9/HloiJ1FaQWttQooT0VvVU3RCUI2avBAQZq5GGrAafCR+vX3zcsdDd2wzNhixrBlK/+\n",
       "uqOr5M7S3Ek404AAAAD+QZv7SeEKUmUwUsL//oywAW3itFXVeAAXNiYkP3AIGS0X8MOxIeaVAgIC\n",
       "6rK+n0+bO9LOBd1h7hilC5Vve83SoG0TB0CTWaA4k+Qs4gVGynMeZPl4EStC5nR9kQW+Y/vFNsNi\n",
       "Kv7a/Tkk88O6GNu8RK4YjOowf/zuoIr2sqAHCx66J53d95puluEV3bKtoBANP401guraideM1sJN\n",
       "vM71jqv0NxzI2EyCWn+5moiel41X0sm+ZxChUBfZcb8DhATCjlDbCjwCvqf6GMjETIopzvgfyTiP\n",
       "vaMZIJ4TeDXET8RTyZEeA0Ys+tu3OASPS1sczrMU9b+fAZU/2pyliIEAAABJAZ4aakf/AL77xN6y\n",
       "Fqq5Wb2+MDGmPcgU0Fpu3pWbKTSnCr+8SkaCvZjaxxkXWbCmsm2IA1Wn+NYpQthD94j9OYMS9IDH\n",
       "3GVjQAAAAQ9Bmh5J4Q6JlMCF//6MsAFt7TLZ7gCFPCzMEXmyfXwowJhUGGUETDG8edvst9Yb2Dmb\n",
       "wAJqMxCoYEAlIyeYygwJUu7GkxsLE9G4FxZPXmeLffqYsSQFvXFJPeRbrROt3sui83ofNmShTmL0\n",
       "A9cM6/rY4S5aza7hJWmZztH2Zw+1+ij9pvHLmf/fob9x+vPcDWddGFm+F10zIzJ5z34DLPBAn3uc\n",
       "qY6WEqA01B8p/L/5Ga5nEoz3wgOjONEsyGO8dMB+UvbX9gbOij0sLKZHZDvXsUMBKOobcX3YjpXn\n",
       "1QHNyELyckObGIew4tUnof14vTlJa41XnZ5Pt5RtGjurHZiVONI7E5zGCcwIp4K2pBk1AAAAXEGe\n",
       "PEUVPCP/AHQ5iIEyGmmVa6CsS8bHx88FUbj3FCLwpaHqUEYYcw1jaTPY+QbreotUDFKKvcCAVrX7\n",
       "AqAZ4+OwQwNoXOtH5vBuL2MlZXSkgMUJdRC0slCnEcDBAAAAPwGeXWpH/wC6SqMv6w6dU1weCXzb\n",
       "cqNBbvNtYgIFO4wsqPBbKDsMf6IR41QCxhYIo/sqjsNLlrKXJUPeBHpNaAAAAR9BmkBJqEFomUwU\n",
       "8M/+nhABav/m0+cCBgAJ2BD+b5eDur2uYHLMEIedcX83P53ZBikVKiVILcP77Jb5xl2peYG9Ul1u\n",
       "ebmIcpqPXe6nfSp8k5Bt8UsbZA0c+OwDcq/xwmEO7kDT7NfxAU5S6GnJWVAalLiFSUIWlISCjxd0\n",
       "A9y2a0Ye45TDLXUq7R6b0Bjb0ZREFS3QXg7QTKnEPWan99H/kJAGCVHe8RLiBLfBLsYuBT/9D6IG\n",
       "YKDwcWKw6VQCzIyKFl06CnJTJFJts+EhhD/le1RzZzbIuEyZinB2X/ug+rfG8gBWnnP8jkmSNBpQ\n",
       "0/hU1iuAUalmQd7zcZRt4fNICFKvGe1YP8qlpu7JKGkIPxYruTVj6xyb1iK4bwF0QAAAAEMBnn9q\n",
       "R/8AulkbxI3+dOPyNSsPqQQPrjJ0GKV+QX7dXh0TfKB/u/gTKn5lW/El5gnXm6JToPlqx7hAoamX\n",
       "puiCFFiBAAABM0GaZEnhClJlMCGf/p4QAWz3ftGvF0WbvnNH9QUQFYBv+W/b7KKX2CIkybefFJJ5\n",
       "+QrMS/cWESfMNiDlQ4ofs7dGHX9vqwraSL7prooFKw/DTKkmn0uKEsRAx5h+aNagfEY9uvecEMyG\n",
       "j3dWPZ6mP77sH//MonpSgpOWSVR5kOQRqAuUTHFRYBXe0IRvvHCTPVro2Hz3KVzzPAMj3GdODD1Y\n",
       "VkmTZMkhEGTmVyeF8MaXBG/819MV0vzDLwWKY+u1NfaoK21oEOTBrHw0YfpixXdoflYvXayTJ/m8\n",
       "Zo/PB5zpFeci+/iOnhjCMnGzhGwfvgHYbWq11pjQFZH6SkAC81T8p7d0jJpyhVxwUf0jlIgIUXGT\n",
       "zZtfTkjdQcVdlSxonEOtIleSTb6fnf/937Oz06qwTHAAAABnQZ6CRTRMI/8AcqtxSAIHnY2gBsVj\n",
       "/jIrS/a1nYJdCFM2vvg829UqRQLdKaUkHUbFBjyKNov2AsK2q5b9CwJWxb1RJ2Z4PUz2VmthJD1R\n",
       "NbDbptUxjdg31ddR474uZTPrQj3Ile0fUwAAADoBnqF0R/8Auh/C/8VsbqYx43BJij7JRu0o8ZLf\n",
       "201jyR2z/vOoSsiGBgb40JS/2fZsbYEFkE0I2eTAAAAANgGeo2pH/wC6Jf42BpLyo8n633wIaPOP\n",
       "2mNa5reKosaASbHDIYaYm4yYaFPlfpxKSmDfanicLQAAATJBmqhJqEFomUwIZ//+nhAAtXi7keTw\n",
       "AmryIkVyUUt5I1CX3yQZ8nWuXgSq7gdP2HBcqa2KKUbrBE5GJvDoCBZVWrSxGC4cg+IREExwCSjE\n",
       "w6YJRlI4KhcdCOZv/ITyg/ay8A1JvS+MVsqpmmDBnDR4AUY4eIg7QUCkLIHnbcX7gI3gWpuyynDo\n",
       "79TXUT1lSShiZ+T1+RC6ug5VWEXjlLrnT+JC3NIbhPkWNGqUR7oOf6f5IxANwxKDrTaQiRN+Vsi4\n",
       "3tSvdvjtO1hlOuwFztZiO91IZ6j6YQM1mVV8XdsOI8LcDzN9rT/bf7mjN5vLAvExHTBKL+M01m7G\n",
       "ZhsATo20Q7kkTDeTatet+0Z6GDN7IlA1PiUdEZm7X5kFLOdHyu9Bi7/GdOIBeBXI59Gl3NiYzMkA\n",
       "AABWQZ7GRREsI/8AbreHGrO6uVMM4U7527S+pskowUFsT5mZ5fze5+8cpASndgyjCUBOX3WrEnvm\n",
       "u9aDzVU4nu2hXAduz7a59p8aVAH62mzDPWQgjM4obYEAAABCAZ7ldEf/ALELvDlHPRYX0ABdAAAW\n",
       "OBm/qEAOpzXlcuBThy1Kb/I8eXUhPiXVciGDtkxC6yNOWg2wj8uDFOIu4G7BAAAANQGe52pH/wCx\n",
       "ZtXAFflxLGsISCpDoSMv6L91zK7FW+NMcdTBbrU+yLYNd2xYLRuADiBnQnTAAAABB0Ga7EmoQWyZ\n",
       "TAhn//6eEAC68y5341UuuQA1vmqJNd0xzjHx+KiSVKjOityGvWZymJkeK+KR4/wx1ZRXyumNYcsY\n",
       "g5JRLk4sgcZTYfeMv7iZUOAcH7hcWoJLLiRXEQo18Rvy4qY9eEM7vbSaaWcm0gfN7j8s2ssgFkJd\n",
       "ySlhlMtBK/r+Z4dh7EVJaY7Oi7+Oe8ZC4Lz501nX+HLTBSP0VYeEGuYB8KTqs4UhVoE6+C/V9QcP\n",
       "0nr3JppTKnckOw3r+D7C1B/IPS3KWVZQJ4Js2eps8RyGVGBXouP6BjnP0FpciK8oHyOv4JHloucD\n",
       "QyfjsJUl4yC9IkPhJ+qgff5AiCDTaJ9u/0tsAAAAZEGfCkUVLCP/AG63hxq2v6+dv+LbqQh7sm92\n",
       "htumalawE5b6LwSOWEGjHifXfAVzKl5WMoLB5KDEyLJMHSQ/AG/jn9mq2ydlXcXwMImFdiSUi5Xx\n",
       "zdbX5zU6pziK06s311TdypkAAAAwAZ8pdEf/ALELwCADDEHPgxNWuu0C0z7kFN/GTJU+Vugpk6oE\n",
       "yE3yIrT/Ae/j5wXUAAAAMAGfK2pH/wCxZtXAFflxJdqfxEZFVKBP7vuA8LmmQtcsle1llKVnVTXP\n",
       "3x4Z2SIi7AAAATVBmzBJqEFsmUwIZ//+nhAAtXbDqrcO9QAtmPPIuL3y0FPxAsE70Fy9/MIAVqX1\n",
       "PraaepYlEfKOJt+mgBBO2RAiBiIb+4sXNdvt1SUyxbm27lFnrqWyYLXCo2dcxOdy1MPw3a7UEZKt\n",
       "BtVpolcwPkf7t1+kcKnk2s4/j+Cqek2qwWQSUZ+0CAW5NaG2IeKLJZ+MzAQbMX5Hk++28U53S6RR\n",
       "mzfM4pZtERm+RTWUI80j9d/JMiDtp3OkQdgwW1wLSG2c5reLblILxz5HIjeeB4NC+15WUpiB/++u\n",
       "vNIX2rB8/8qEMYZjZAVa2TRUoFo+z5hXLSMqXOrH7M/uTuzWEFwAg0fv06bQqmaLA9dy9Kc1Jcfb\n",
       "n9PVGBXG97Mos3CZR7kZIpzx9NUXj4JgigiH6tMIdsAZw58AAABQQZ9ORRUsI/8AbreHGrQESIrD\n",
       "yX+yfS2dMCZSz2O5twxWg6TxlL2uieug1zG8yU0UAfr8eKj20uhdwMi+WNVPpG4uzqWvlMrLIK6D\n",
       "4kWT3rEAAAA2AZ9tdEf/ALELvKc4e9Dc+x2Krty44XLfa+wSNto2EpUno26fCZALlVWRccaOqvsF\n",
       "QewxCbAhAAAAMgGfb2pH/wCxZtXSBLHG7oX7tGW0yqmLNNtb+4rYjOxzCHP+QbrKZf8Tpke2aBWK\n",
       "oFfAAAABbUGbdEmoQWyZTAhn//6eEAC2fkcRwPUWqP6bs3fJS+Bh4jnXgtHhOg8MuvB2duxCjywa\n",
       "VPfKwCvXUkQt6V2P+dD5gxAA//gcwH91e+y1Jb3r7z3pteOUh6Bw243JnjAYCaNodXeybw580jHn\n",
       "MtraLxCjjbxpR19XH4Ud2uEVYA60012+Y5o0VttWvQ7Oh2ux82Fbr/VFLV14S6QSu27IMrg0N8J6\n",
       "FOuBXPVFBFWLOyiNYXXtY1mQq8sqkga45Vcmws5Bcd+sMYCDWdT/roDfHFp60/f6u2XaDzjcqRH6\n",
       "Qoe2/wzScpc6vll37rJ5m9XmsHvdwl7PSCP6y++3vEV0zkhOPOZf1vX8MKESL53sBZnSJFHK9b6Y\n",
       "mC1Rnt5CgeINYGqTDEte17KbgMRwV4lUyijAP6qvKogiGMHiRuuP4PIANyzakE8Y9EJQJ/CNPfBv\n",
       "ZQ8axjOONDbhGAnjNDyqE2b75kRqsFc/h8ZT7HaAAAAAUkGfkkUVLCP/AG63hxq0OmfVL/Zuu9iu\n",
       "F8n7t0oip/lgOLva1slKTS7qCU8AA13LtsSDrSmWnzW2NBPSthwkXnq4dQtBwsCRS1ZvUQsnQUoT\n",
       "zsEAAAA4AZ+xdEf/ALELvDlFbRv8gvhrlGYxc3PaO7dgDOsB9P2bKt0ng8hjIXLjB9UDeW7VFLI/\n",
       "iU4kC4AAAAAwAZ+zakf/ALFmp0OUynN50Ffc8TJtxrzQHr8qzXy7AhLNfy9jMZeWzy56yilQYwzE\n",
       "AAABR0GbuEmoQWyZTAhn//6eEABdeZdCOc/tq1rgBukL+ojNNvr3UQQ7l+cbVouxTla28CMHHPZw\n",
       "k8+1SzRi9Wssi09RbotkaMKaIO2IqBNjalsDY6V2IednGsy7IGIfVsu+BUyfi1LPjdscUi9NXNkz\n",
       "zL/K0DC8oOkYva1M6XasO/CBM3zB9bdgZE3fMl6LQA3KmtDFTU7ANl/tuj+z5a07NAngxu6fwLEo\n",
       "KuZr8O8rb1hPNznrNYzCkTg8DtfMsPWwhhndEuD+qWjLDehwOjG1ZhZfnlcZulpBd3DGoOOKXIhc\n",
       "hducRSarFOrwUA0A6tj0Zgp9AwrTYaqc1JrjKz3VRKGZ8x/orJkM7fRQ68QW0aVJwwuzBgtisPxE\n",
       "zix2uOYxpyOjzxFMdtEmWQAt3vr+5TzVrNwiG/SDEOoTV36Q4CphYiUzIupd0wAAAGVBn9ZFFSwj\n",
       "/wBut4casifW3/r/e5Gy931AC0QAAys6StoAw+CP3SqhkHux/FntRLVKsE7yqnsng3o3iamLHHrQ\n",
       "MHiXpWarFJTIN8ef2JXG0+p9sCrkWWP1bQyFutbzHYJZMIZh+AAAADIBn/V0R/8AsQt7TxnR4ZP2\n",
       "VFyY3Op6FEptHEvYz4pWCpATXnOVG7F59Bt6kD3jN9cmwQAAADABn/dqR/8AsWanQwnNX9eBZ4ug\n",
       "csWAXI7dvBfpaKJS9KfQPh3aN3uA0ALXZ0Z8wbMAAAEiQZv8SahBbJlMCGf//p4QAF15l0Mx3agK\n",
       "cALH0rryUywkaPsrjbe53Bg5yhppSKhRjAduTm9yAZ+aqBbQiZOPcQzUohQrlRK02HorfNcndiD9\n",
       "lPh5hL1kjMg8BrenD3ki3NT/AemScc4hlt+6ZEA3RGe0ivUE7krR1eFT1DD5Le3Q12OPtAx+CddX\n",
       "Cz+CgDXbEaN1/QDoGB/17VYJvIcYpDjIm8OLz/sV6v3o+rvPDOQz6BuMuGHPLpq8VF78PQYBfNKc\n",
       "I/AeLUMhRCyPse71qxqkLntbG9eDmcNq5/Ops5C/lFjR8+2HtCFq3LyavZbNJdpd+5XzHm1B/4NQ\n",
       "L6Nph/+t09M8M04oh6hlcg5oKAlsF9AGwb9mR4Y3KEkByM5UZ4AAAABVQZ4aRRUsI/8AbreHGqQu\n",
       "sA5UytKqM24G6FDLgFDA8ckNcdrmzUlOG+9iXNflSS0lqXbke4Wi9yt/mTVuwJTVfJvh1BR4zbzP\n",
       "+W0Ff13o6UiNMbvteQAAAC4Bnjl0R/8AsQt7Tf7BffTvkh5swzc/klLePpFhxR595HYo/w9XELcT\n",
       "54QAeAZMAAAALQGeO2pH/wCxZqdDEAkqComdiirycphoC5wTzs/oyW9be3wiGcdqYxJNU44dwQAA\n",
       "AQFBmiBJqEFsmUwIX//+jLAAW3izvX0oggBugtKEUPOUBf4riNjE0qnuCt3D2LooH7dZMGX+Jio9\n",
       "vZ4mRd/2AePTarVsyRxnBxFTdHj1nJ6Qi/L9DYAa4A3mxFeM7wSGIuTJZHaRmvSxIRlBgdJ3UznO\n",
       "9ITb2c2HDdwfTtKjZ2U/3p6dwY2TF4ZIgApHYWUEba9Suyateby906aG/5ahfN4S0JZ6nf8j8g4h\n",
       "BTSwNCg/I//Ibkt+M+kINefxuYAbicQ9kIRiqqmY+5uSz/sLg/qsclUNUrOZYStLnWGtUr4uEofo\n",
       "kwOWPLIYiaXt7ifHMeovni9foPwMkWAttJl9fsGTDwAAAE9Bnl5FFSwj/wBut4capC6xXgG7q4fu\n",
       "K6Jv/fgwnHpQx6RivZq2HSgRvA6LyK0sSJjRdmhO/yLANrq5rgXZ38Fbg/N2HFhm563TMF0nEjJA\n",
       "AAAALgGefXRH/wCxC3tOKfxivIxs0dxKfGfLLd10QfTrsxMoO7gegZZ4y9aJ64YMMSAAAAAwAZ5/\n",
       "akf/ALFmp0L47kafCifrVHC+mMRTeeY0Pg0Pfs364JveTWk6uFRz3x1RY0NPAAAA9EGaZEmoQWyZ\n",
       "TAhf//6MsABbgidHfJDJF5KlGjADidRr44cEPrc9HYJMAIbub2Q3OTvtYMJtWmZWi7HB8BPSzV6t\n",
       "3nWOYvpACjxmrOFiNR6sp8jyMXVtg8a+3sgTgdlP38M0+zz3NKnLxPzO+5eYYewDx6ewvb0J75VH\n",
       "tyZzrdP+kHkmC1Vfdww+CjfNvRi7AFERndii3Z2U0203wNIFFzprH+5PpfzjSp+LgmljZqduM04q\n",
       "3onBtmnf80kXCPcsBcQggBKQezs5SV06ICVjEDL0FgefJrRHcfhGC7ATmY/cOLqYOgJNvuPlia3W\n",
       "YBKI9r+EWkAAAABOQZ6CRRUsI/8AbreHGqQusV4BY2YdWtAYbjjb48nv46YnLHLMXLTleXO/99xJ\n",
       "qwzhUVtmRYFotZFZvVr64hPJtbFI2ww50oQcLMZQqxYxAAAANgGeoXRH/wCxC3tOKfm0cG3HibTx\n",
       "jRjOkDWUJGPbM82/DOp/d76n76YcP6ljw1Q+uqPx1RwxoAAAAC0BnqNqR/8AsWanQv/doXe8di91\n",
       "91nbG6KZjTctIozKoKDfY2zIY3SMtJnIHJEAAADqQZqoSahBbJlMCF///oywAFt4zo/jUiphI+Dz\n",
       "tcfPd4AWLbWN4vHcxUa/MXrMWiyjg3pAtfUY1cWaRay8ajKIRqkSoSSjVZg2v8tU7amRcsdDQKev\n",
       "Zop5SK3EvqYaUsn7ukcqU30BCXYRSwHOg50CR0Xh08MDoC3xO3EpQIpS1rzTo2rU3hoOudQZI8bV\n",
       "SQODNV/8ZF3oBkiEc+7QH1h/EOfgOZamSWrYgA1f4+AEz+hxlAQSS7xZrcFRlVDqZ+M/ZiBCF+rX\n",
       "u2MpLeeltEsOZfQMu1KLK+AOCR+WLcvsoKZVe0k8VU5KhiFBAAAAVUGexkUVLCP/AG63hxqkLq49\n",
       "5C7n81+WsTk9f82bADZlOZp6GZRuZJwV+nxjW+4oRbJHv0GlnnB2RR5wM27suyZ5DD32RWh2WlYY\n",
       "DzzlRJ+oKShTJTsAAAArAZ7ldEf/ALELe04p+e2S0hJoQh5hPxQxqTtEetRza02pI5b9o1WvIlg2\n",
       "gQAAACwBnudqR/8AsWanQw15G+q0LMaptw6iLJKLV7mAY0sue0IgRzdAYNrw5s6URwAAALNBmuxJ\n",
       "qEFsmUwIV//+OEABYe51oMySFawKUmXQAHDRPpnXlNiBgl8YTauu3y61nqvK45z+kaOg/XzzW5cz\n",
       "qoRLvcocce864BTugigqX5hweYjsQoGO+pJP3iW3mVzv2EolLw0P4n7OpWsUsu+gvksuimvqV4o5\n",
       "+d73WjYDryeOE4TWdIgzh87fXb6NAn3kPCtUttFJlyURZ8Mqq81G+BnEEDxRn0cWxuME67RQ8mn6\n",
       "lVUMCAAAAFJBnwpFFSwj/wBut4capC6wmP0zLU/zt6LLaYNYjPCGNnm2lUpSXfc6vEdR+SyHF2iD\n",
       "/eGWPsvLpdmcOE8G0RO6KIo6q73IZIX5XTxTyEOhvU3pAAAAKQGfKXRH/wCxC3tOBdvmRHrGWwib\n",
       "WZLMbJmqtqNoRcQ/mJ1cWRjQXE7AAAAAKgGfK2pH/wCxZqc/WpoQ2tSGpgWlmZq/05J8H+SwwqCL\n",
       "LtCWERbUFyKGjAAAAGhBmzBJqEFsmUwIR//94QACw2sYbYaMhSAhPI8M7+6aB2azDVY7bUDi/vQO\n",
       "VZnC4qpJvGyjFmdHAK0sPOGXvqF2QM3pj4BRNy3PUCOR40m1lfWdu99S/VKn0bWDrN6IRyOhnO/k\n",
       "1ZzZgQAAAEhBn05FFSwj/wBut4capC6BdO7UKjcTshJYKVPUwwb98ogEqIU+YHZjq5qjGaanmrOf\n",
       "sYgf/GeOvUwnE364cY/ZMRoT7JBuj38AAAA1AZ9tdEf/ALELe0aznrLmCsoYfxAAC6gCFhZawwV8\n",
       "R2HS5ag/6mCU7VxpI46G/Y5hRDQ0LGEAAAAwAZ9vakf/ALFmpz9Z0AoTgrffqxn84DfUZfszbcmc\n",
       "1Y6gqEPwwsL1G/H1dW5sCD/AAAAAPUGbcUmoQWyZTAj//IQACsI9hzB/GeS7vvZWcx2yOnjfXEMG\n",
       "bEl0QiK7tv5TzWFinFYZ/HNfIHzpCS606fAAAAb2bW9vdgAAAGxtdmhkAAAAAAAAAAAAAAAAAAAD\n",
       "6AAABmgAAQAAAQAAAAAAAAAAAAAAAAEAAAAAAAAAAAAAAAAAAAABAAAAAAAAAAAAAAAAAABAAAAA\n",
       "AAAAAAAAAAAAAAAAAAAAAAAAAAAAAAAAAAAAAgAABiB0cmFrAAAAXHRraGQAAAADAAAAAAAAAAAA\n",
       "AAABAAAAAAAABmgAAAAAAAAAAAAAAAAAAAAAAAEAAAAAAAAAAAAAAAAAAAABAAAAAAAAAAAAAAAA\n",
       "AABAAAAAAbAAAAEgAAAAAAAkZWR0cwAAABxlbHN0AAAAAAAAAAEAAAZoAAACAAABAAAAAAWYbWRp\n",
       "YQAAACBtZGhkAAAAAAAAAAAAAAAAAAAyAAAAUgBVxAAAAAAALWhkbHIAAAAAAAAAAHZpZGUAAAAA\n",
       "AAAAAAAAAABWaWRlb0hhbmRsZXIAAAAFQ21pbmYAAAAUdm1oZAAAAAEAAAAAAAAAAAAAACRkaW5m\n",
       "AAAAHGRyZWYAAAAAAAAAAQAAAAx1cmwgAAAAAQAABQNzdGJsAAAAs3N0c2QAAAAAAAAAAQAAAKNh\n",
       "dmMxAAAAAAAAAAEAAAAAAAAAAAAAAAAAAAAAAbABIABIAAAASAAAAAAAAAABAAAAAAAAAAAAAAAA\n",
       "AAAAAAAAAAAAAAAAAAAAAAAAAAAAGP//AAAAMWF2Y0MBZAAe/+EAGGdkAB6s2UGwloQAAAMABAAA\n",
       "AwGQPFi2WAEABmjr48siwAAAABx1dWlka2hA8l8kT8W6OaUbzwMj8wAAAAAAAAAYc3R0cwAAAAAA\n",
       "AAABAAAAUgAAAQAAAAAUc3RzcwAAAAAAAAABAAAAAQAAApBjdHRzAAAAAAAAAFAAAAABAAACAAAA\n",
       "AAEAAAMAAAAAAQAAAQAAAAACAAACAAAAAAEAAAMAAAAAAQAAAQAAAAABAAADAAAAAAEAAAEAAAAA\n",
       "AQAAAgAAAAABAAADAAAAAAEAAAEAAAAAAQAAAwAAAAABAAABAAAAAAEAAAMAAAAAAQAAAQAAAAAB\n",
       "AAADAAAAAAEAAAEAAAAAAQAAAwAAAAABAAABAAAAAAEAAAUAAAAAAQAAAgAAAAABAAAAAAAAAAEA\n",
       "AAEAAAAAAQAAAwAAAAABAAABAAAAAAEAAAMAAAAAAQAAAQAAAAABAAAEAAAAAAIAAAEAAAAAAQAA\n",
       "AwAAAAABAAABAAAAAAEAAAUAAAAAAQAAAgAAAAABAAAAAAAAAAEAAAEAAAAAAQAABQAAAAABAAAC\n",
       "AAAAAAEAAAAAAAAAAQAAAQAAAAABAAAFAAAAAAEAAAIAAAAAAQAAAAAAAAABAAABAAAAAAEAAAUA\n",
       "AAAAAQAAAgAAAAABAAAAAAAAAAEAAAEAAAAAAQAABQAAAAABAAACAAAAAAEAAAAAAAAAAQAAAQAA\n",
       "AAABAAAFAAAAAAEAAAIAAAAAAQAAAAAAAAABAAABAAAAAAEAAAUAAAAAAQAAAgAAAAABAAAAAAAA\n",
       "AAEAAAEAAAAAAQAABQAAAAABAAACAAAAAAEAAAAAAAAAAQAAAQAAAAABAAAFAAAAAAEAAAIAAAAA\n",
       "AQAAAAAAAAABAAABAAAAAAEAAAUAAAAAAQAAAgAAAAABAAAAAAAAAAEAAAEAAAAAAQAABQAAAAAB\n",
       "AAACAAAAAAEAAAAAAAAAAQAAAQAAAAABAAAFAAAAAAEAAAIAAAAAAQAAAAAAAAABAAABAAAAAAEA\n",
       "AAIAAAAAHHN0c2MAAAAAAAAAAQAAAAEAAABSAAAAAQAAAVxzdHN6AAAAAAAAAAAAAABSAAAOxwAA\n",
       "BGYAAADTAAABvAAAAYsAAAG5AAAAeQAAAXEAAABsAAABHwAAAXUAAABmAAABJgAAAFoAAAEbAAAA\n",
       "VwAAARcAAABPAAAA9wAAAE4AAAFYAAAAeQAAAEoAAABQAAABFgAAAEwAAAECAAAATQAAARMAAABg\n",
       "AAAAQwAAASMAAABHAAABNwAAAGsAAAA+AAAAOgAAATYAAABaAAAARgAAADkAAAELAAAAaAAAADQA\n",
       "AAA0AAABOQAAAFQAAAA6AAAANgAAAXEAAABWAAAAPAAAADQAAAFLAAAAaQAAADYAAAA0AAABJgAA\n",
       "AFkAAAAyAAAAMQAAAQUAAABTAAAAMgAAADQAAAD4AAAAUgAAADoAAAAxAAAA7gAAAFkAAAAvAAAA\n",
       "MAAAALcAAABWAAAALQAAAC4AAABsAAAATAAAADkAAAA0AAAAQQAAABRzdGNvAAAAAAAAAAEAAAAs\n",
       "AAAAYnVkdGEAAABabWV0YQAAAAAAAAAhaGRscgAAAAAAAAAAbWRpcmFwcGwAAAAAAAAAAAAAAAAt\n",
       "aWxzdAAAACWpdG9vAAAAHWRhdGEAAAABAAAAAExhdmY1Ny43MS4xMDA=\n",
       "\">\n",
       "  Your browser does not support the video tag.\n",
       "</video>"
      ],
      "text/plain": [
       "<IPython.core.display.HTML object>"
      ]
     },
     "execution_count": 6,
     "metadata": {},
     "output_type": "execute_result"
    },
    {
     "data": {
      "image/png": "[encoded data removed]",
      "text/plain": [
       "<matplotlib.figure.Figure at 0x7f1940a55ac8>"
      ]
     },
     "metadata": {},
     "output_type": "display_data"
    }
   ],
   "source": [
    "fig, ax = plt.subplots()\n",
    "line, = ax.plot(np.linspace(0, 2, nx), history_1[0])\n",
    "\n",
    "def animate(i):\n",
    "    line.set_ydata(history_1[i])\n",
    "    return line,\n",
    "\n",
    "anim = animation.FuncAnimation(fig, animate, frames=nt, interval=20)\n",
    "HTML(anim.to_html5_video())"
   ]
  },
  {
   "cell_type": "code",
   "execution_count": 7,
   "metadata": {},
   "outputs": [],
   "source": [
    "# burger's equation\n",
    "import sympy\n",
    "from sympy import init_printing\n",
    "init_printing(use_latex=True)"
   ]
  },
  {
   "cell_type": "code",
   "execution_count": 8,
   "metadata": {},
   "outputs": [
    {
     "data": {
      "image/png": "[encoded data removed]",
      "text/latex": [
       "$$e^{- \\frac{\\left(- 4 t + x - 6.28318530717959\\right)^{2}}{4 \\nu \\left(t + 1\\right)}} + e^{- \\frac{\\left(- 4 t + x\\right)^{2}}{4 \\nu \\left(t + 1\\right)}}$$"
      ],
      "text/plain": [
       "                               2                2 \n",
       " -(-4⋅t + x - 6.28318530717959)      -(-4⋅t + x)  \n",
       " ────────────────────────────────    ─────────────\n",
       "           4⋅ν⋅(t + 1)                4⋅ν⋅(t + 1) \n",
       "ℯ                                 + ℯ             "
      ]
     },
     "execution_count": 8,
     "metadata": {},
     "output_type": "execute_result"
    }
   ],
   "source": [
    "x, nu, t = sympy.symbols('x nu t')\n",
    "phi = (sympy.exp(-(x - 4 * t)**2 / (4 * nu * (t + 1))) +\n",
    "               sympy.exp(-(x - 4 * t - 2 * np.pi)**2 /\n",
    "                        (4 * nu * (t + 1))))\n",
    "phi"
   ]
  },
  {
   "cell_type": "code",
   "execution_count": 9,
   "metadata": {},
   "outputs": [
    {
     "data": {
      "image/png": "[encoded data removed]",
      "text/latex": [
       "$$- \\frac{e^{- \\frac{\\left(- 4 t + x\\right)^{2}}{4 \\nu \\left(t + 1\\right)}}}{4 \\nu \\left(t + 1\\right)} \\left(- 8 t + 2 x\\right) - \\frac{1}{4 \\nu \\left(t + 1\\right)} \\left(- 8 t + 2 x - 12.5663706143592\\right) e^{- \\frac{\\left(- 4 t + x - 6.28318530717959\\right)^{2}}{4 \\nu \\left(t + 1\\right)}}$$"
      ],
      "text/plain": [
       "                           2                                                  \n",
       "                -(-4⋅t + x)                                      -(-4⋅t + x - \n",
       "                ─────────────                                    ─────────────\n",
       "                 4⋅ν⋅(t + 1)                                               4⋅ν\n",
       "  (-8⋅t + 2⋅x)⋅ℯ                (-8⋅t + 2⋅x - 12.5663706143592)⋅ℯ             \n",
       "- ─────────────────────────── - ──────────────────────────────────────────────\n",
       "          4⋅ν⋅(t + 1)                                      4⋅ν⋅(t + 1)        \n",
       "\n",
       "                 2 \n",
       "6.28318530717959)  \n",
       "───────────────────\n",
       "⋅(t + 1)           \n",
       "                   \n",
       "───────────────────\n",
       "                   "
      ]
     },
     "execution_count": 9,
     "metadata": {},
     "output_type": "execute_result"
    }
   ],
   "source": [
    "phiprime = phi.diff(x)\n",
    "phiprime"
   ]
  },
  {
   "cell_type": "code",
   "execution_count": 10,
   "metadata": {},
   "outputs": [
    {
     "data": {
      "image/png": "[encoded data removed]",
      "text/latex": [
       "$$3.49170664206$$"
      ],
      "text/plain": [
       "3.49170664206"
      ]
     },
     "execution_count": 10,
     "metadata": {},
     "output_type": "execute_result"
    }
   ],
   "source": [
    "u = -2 * nu * (phiprime / phi) + 4\n",
    "\n",
    "from sympy.utilities.lambdify import lambdify\n",
    "ufunc = lambdify((t, x, nu), u)\n",
    "ufunc(1, 4, 3)"
   ]
  },
  {
   "cell_type": "code",
   "execution_count": 11,
   "metadata": {},
   "outputs": [],
   "source": [
    "def burgers(nx, nt):\n",
    "    if not nx:\n",
    "        nx = 101\n",
    "    if not nt:\n",
    "        nt = 100\n",
    "    dx = 2 * np.pi / (nx -1)\n",
    "    nu = .07\n",
    "    dt = dx * nu\n",
    "    \n",
    "    x = np.linspace(0, 2 * np.pi, nx)\n",
    "    un = np.empty(nx)\n",
    "    t = 0\n",
    "    u = np.asarray([ufunc(t, x0, nu) for x0 in x])\n",
    "\n",
    "\n",
    "\n",
    "#     fig, ax = plt.subplots()\n",
    "#     ax.set_ylim([0, 10])\n",
    "#     fig.set_size_inches(10, 8)\n",
    "#     ax.plot(x, u, marker=\"o\", lw=2, alpha=.4, color=\"#113544\")\n",
    "    \n",
    "    history = u.copy()\n",
    "    for n in range(nt):\n",
    "        un = u.copy()\n",
    "        for i in range(1, nx-1):\n",
    "            u[i] = (un[i] - un[i-1] * dt/ dx *(\n",
    "                un[i] - un[i-1]) + nu * dt / dx**2 *\n",
    "                   (un[i+1] - 2 * un[i] + un[i-1]))\n",
    "            \n",
    "            u[0] = (un[0] - un[0] * dt / dx * (un[0] - un[-1]) + nu * dt / dx**2 *\n",
    "                (un[1] - 2 * un[0] + un[-1]))\n",
    "            \n",
    "            u[-1] = (un[-1] - un[-1] * dt / dx * (un[-1] - un[-2]) + nu * dt / dx**2 *\n",
    "                (un[0] - 2 * un[-1] + un[-2]))\n",
    "                \n",
    "#             u[-1] = u[0]\n",
    "        history = np.row_stack((history, u))\n",
    "        \n",
    "    return history"
   ]
  },
  {
   "cell_type": "code",
   "execution_count": 12,
   "metadata": {},
   "outputs": [
    {
     "data": {
      "text/plain": [
       "<matplotlib.axes._subplots.AxesSubplot at 0x7f193f6b4cf8>"
      ]
     },
     "execution_count": 12,
     "metadata": {},
     "output_type": "execute_result"
    },
    {
     "data": {
      "image/png": "[encoded data removed]",
      "text/plain": [
       "<matplotlib.figure.Figure at 0x7f193f69d438>"
      ]
     },
     "metadata": {},
     "output_type": "display_data"
    }
   ],
   "source": [
    "nx = 100\n",
    "nt = 400\n",
    "sns.heatmap(burgers(nx=nx, nt=nt))"
   ]
  },
  {
   "cell_type": "code",
   "execution_count": 13,
   "metadata": {},
   "outputs": [
    {
     "name": "stdout",
     "output_type": "stream",
     "text": [
      "Using matplotlib backend: Qt5Agg\n"
     ]
    },
    {
     "data": {
      "image/png": "[encoded data removed]",
      "text/plain": [
       "<matplotlib.figure.Figure at 0x7f193f68f7b8>"
      ]
     },
     "metadata": {},
     "output_type": "display_data"
    }
   ],
   "source": [
    "%matplotlib\n",
    "\n",
    "def animate(history, nx, nt):\n",
    "    fig, ax = plt.subplots()\n",
    "    line, = ax.plot(np.linspace(0, 2, nx), history[0])\n",
    "\n",
    "    def animate(i):\n",
    "        line.set_ydata(history[i])\n",
    "        return line,\n",
    "\n",
    "    anim = animation.FuncAnimation(fig, animate, frames=nt, interval=20)\n",
    "    # return anim.to_html5_video()\n",
    "# HTML(animate(burgers(nx, nt), nx, nt))\n",
    "animate(burgers(nx, nt), nx, nt)\n",
    "plt.show()"
   ]
  },
  {
   "cell_type": "code",
   "execution_count": null,
   "metadata": {
    "collapsed": true
   },
   "outputs": [],
   "source": [
    "# numpy build-in functions\n",
    "u = np.array([n for n in range(6)])\n",
    "u[1:] - u[0:]"
   ]
  },
  {
   "cell_type": "code",
   "execution_count": null,
   "metadata": {
    "collapsed": true
   },
   "outputs": [],
   "source": []
  }
 ],
 "metadata": {
  "kernelspec": {
   "display_name": "Python [conda env:snowflake]",
   "language": "python",
   "name": "conda-env-snowflake-py"
  },
  "language_info": {
   "codemirror_mode": {
    "name": "ipython",
    "version": 3
   },
   "file_extension": ".py",
   "mimetype": "text/x-python",
   "name": "python",
   "nbconvert_exporter": "python",
   "pygments_lexer": "ipython3",
   "version": "3.6.1"
  }
 },
 "nbformat": 4,
 "nbformat_minor": 2
}
