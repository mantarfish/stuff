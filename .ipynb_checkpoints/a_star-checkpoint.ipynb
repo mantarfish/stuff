{
 "cells": [
  {
   "cell_type": "code",
   "execution_count": 1,
   "metadata": {
    "collapsed": true
   },
   "outputs": [],
   "source": [
    "path = '/home/nol/atom_pjs/a_star/'\n",
    "import sys\n",
    "sys.path.insert(0, path)\n",
    "\n",
    "import a_star as star\n",
    "\n",
    "%load_ext autoreload\n",
    "%autoreload 2"
   ]
  },
  {
   "cell_type": "code",
   "execution_count": 9,
   "metadata": {
    "collapsed": true
   },
   "outputs": [],
   "source": [
    "import collections\n",
    "import numpy as np\n"
   ]
  },
  {
   "cell_type": "code",
   "execution_count": 14,
   "metadata": {},
   "outputs": [],
   "source": [
    "g2d = star.Grid2D(n=30)\n"
   ]
  },
  {
   "cell_type": "code",
   "execution_count": 39,
   "metadata": {},
   "outputs": [
    {
     "ename": "ValueError",
     "evalue": "either start or end is not passable",
     "output_type": "error",
     "traceback": [
      "\u001b[0;31m---------------------------------------------------------------------------\u001b[0m",
      "\u001b[0;31mValueError\u001b[0m                                Traceback (most recent call last)",
      "\u001b[0;32m<ipython-input-39-6e8d3665a391>\u001b[0m in \u001b[0;36m<module>\u001b[0;34m()\u001b[0m\n\u001b[0;32m----> 1\u001b[0;31m \u001b[0mactor\u001b[0m \u001b[0;34m=\u001b[0m \u001b[0mstar\u001b[0m\u001b[0;34m.\u001b[0m\u001b[0mPathFindingAgent\u001b[0m\u001b[0;34m(\u001b[0m\u001b[0mgraph\u001b[0m\u001b[0;34m=\u001b[0m\u001b[0mg2d\u001b[0m\u001b[0;34m,\u001b[0m \u001b[0mstart\u001b[0m\u001b[0;34m=\u001b[0m\u001b[0;34m(\u001b[0m\u001b[0;36m1\u001b[0m\u001b[0;34m,\u001b[0m \u001b[0;36m1\u001b[0m\u001b[0;34m)\u001b[0m\u001b[0;34m,\u001b[0m \u001b[0mend\u001b[0m\u001b[0;34m=\u001b[0m\u001b[0;34m(\u001b[0m\u001b[0;36m11\u001b[0m\u001b[0;34m,\u001b[0m \u001b[0;36m16\u001b[0m\u001b[0;34m)\u001b[0m\u001b[0;34m)\u001b[0m\u001b[0;34m\u001b[0m\u001b[0m\n\u001b[0m",
      "\u001b[0;32m~/atom_pjs/a_star/a_star.py\u001b[0m in \u001b[0;36m__init__\u001b[0;34m(self, graph, start, end)\u001b[0m\n\u001b[1;32m    181\u001b[0m         \u001b[0mself\u001b[0m\u001b[0;34m.\u001b[0m\u001b[0mend\u001b[0m \u001b[0;34m=\u001b[0m \u001b[0mend\u001b[0m\u001b[0;34m\u001b[0m\u001b[0m\n\u001b[1;32m    182\u001b[0m         \u001b[0mself\u001b[0m\u001b[0;34m.\u001b[0m\u001b[0mgraph\u001b[0m \u001b[0;34m=\u001b[0m \u001b[0mgraph\u001b[0m\u001b[0;34m\u001b[0m\u001b[0m\n\u001b[0;32m--> 183\u001b[0;31m         \u001b[0mself\u001b[0m\u001b[0;34m.\u001b[0m\u001b[0mvalidate\u001b[0m\u001b[0;34m(\u001b[0m\u001b[0;34m)\u001b[0m\u001b[0;34m\u001b[0m\u001b[0m\n\u001b[0m\u001b[1;32m    184\u001b[0m         \u001b[0mself\u001b[0m\u001b[0;34m.\u001b[0m\u001b[0mnav\u001b[0m \u001b[0;34m=\u001b[0m \u001b[0mBreadthFirstSearch\u001b[0m\u001b[0;34m(\u001b[0m\u001b[0mself\u001b[0m\u001b[0;34m.\u001b[0m\u001b[0mgraph\u001b[0m\u001b[0;34m,\u001b[0m \u001b[0mself\u001b[0m\u001b[0;34m.\u001b[0m\u001b[0mstart\u001b[0m\u001b[0;34m,\u001b[0m \u001b[0mend\u001b[0m\u001b[0;34m=\u001b[0m\u001b[0mself\u001b[0m\u001b[0;34m.\u001b[0m\u001b[0mend\u001b[0m\u001b[0;34m)\u001b[0m\u001b[0;34m\u001b[0m\u001b[0m\n\u001b[1;32m    185\u001b[0m         \u001b[0mself\u001b[0m\u001b[0;34m.\u001b[0m\u001b[0mpath\u001b[0m \u001b[0;34m=\u001b[0m \u001b[0;34m[\u001b[0m\u001b[0;34m]\u001b[0m\u001b[0;34m\u001b[0m\u001b[0m\n",
      "\u001b[0;32m~/atom_pjs/a_star/a_star.py\u001b[0m in \u001b[0;36mvalidate\u001b[0;34m(self)\u001b[0m\n\u001b[1;32m    190\u001b[0m             \u001b[0mself\u001b[0m\u001b[0;34m.\u001b[0m\u001b[0mstart\u001b[0m\u001b[0;34m=\u001b[0m\u001b[0;34m(\u001b[0m\u001b[0;36m0\u001b[0m\u001b[0;34m,\u001b[0m \u001b[0;36m0\u001b[0m\u001b[0;34m)\u001b[0m\u001b[0;34m\u001b[0m\u001b[0m\n\u001b[1;32m    191\u001b[0m             \u001b[0mself\u001b[0m\u001b[0;34m.\u001b[0m\u001b[0mend\u001b[0m\u001b[0;34m=\u001b[0m\u001b[0;34m(\u001b[0m\u001b[0;36m10\u001b[0m\u001b[0;34m,\u001b[0m \u001b[0;36m10\u001b[0m\u001b[0;34m)\u001b[0m\u001b[0;34m\u001b[0m\u001b[0m\n\u001b[0;32m--> 192\u001b[0;31m             \u001b[0;32mraise\u001b[0m \u001b[0mValueError\u001b[0m\u001b[0;34m(\u001b[0m\u001b[0;34m'either start or end is not passable'\u001b[0m\u001b[0;34m)\u001b[0m\u001b[0;34m\u001b[0m\u001b[0m\n\u001b[0m\u001b[1;32m    193\u001b[0m \u001b[0;34m\u001b[0m\u001b[0m\n\u001b[1;32m    194\u001b[0m     \u001b[0;32mdef\u001b[0m \u001b[0mget_path\u001b[0m\u001b[0;34m(\u001b[0m\u001b[0mself\u001b[0m\u001b[0;34m)\u001b[0m\u001b[0;34m:\u001b[0m\u001b[0;34m\u001b[0m\u001b[0m\n",
      "\u001b[0;31mValueError\u001b[0m: either start or end is not passable"
     ]
    }
   ],
   "source": [
    "actor = star.PathFindingAgent(graph=g2d, start=(1, 1), end=(11, 16))"
   ]
  },
  {
   "cell_type": "code",
   "execution_count": 35,
   "metadata": {},
   "outputs": [
    {
     "ename": "KeyError",
     "evalue": "(11, 16)",
     "output_type": "error",
     "traceback": [
      "\u001b[0;31m---------------------------------------------------------------------------\u001b[0m",
      "\u001b[0;31mKeyError\u001b[0m                                  Traceback (most recent call last)",
      "\u001b[0;32m<ipython-input-35-6ea231dd9ca8>\u001b[0m in \u001b[0;36m<module>\u001b[0;34m()\u001b[0m\n\u001b[0;32m----> 1\u001b[0;31m \u001b[0mactor\u001b[0m\u001b[0;34m.\u001b[0m\u001b[0mget_path\u001b[0m\u001b[0;34m(\u001b[0m\u001b[0;34m)\u001b[0m\u001b[0;34m\u001b[0m\u001b[0m\n\u001b[0m",
      "\u001b[0;32m~/atom_pjs/a_star/a_star.py\u001b[0m in \u001b[0;36mget_path\u001b[0;34m(self)\u001b[0m\n\u001b[1;32m    199\u001b[0m         \u001b[0mpath\u001b[0m\u001b[0;34m.\u001b[0m\u001b[0mappend\u001b[0m\u001b[0;34m(\u001b[0m\u001b[0mself\u001b[0m\u001b[0;34m.\u001b[0m\u001b[0mend\u001b[0m\u001b[0;34m)\u001b[0m\u001b[0;34m\u001b[0m\u001b[0m\n\u001b[1;32m    200\u001b[0m         \u001b[0mnext_node\u001b[0m \u001b[0;34m=\u001b[0m \u001b[0mself\u001b[0m\u001b[0;34m.\u001b[0m\u001b[0mend\u001b[0m\u001b[0;34m\u001b[0m\u001b[0m\n\u001b[0;32m--> 201\u001b[0;31m         \u001b[0;32mwhile\u001b[0m \u001b[0mnext_node\u001b[0m \u001b[0;34m!=\u001b[0m \u001b[0mself\u001b[0m\u001b[0;34m.\u001b[0m\u001b[0mstart\u001b[0m\u001b[0;34m:\u001b[0m\u001b[0;34m\u001b[0m\u001b[0m\n\u001b[0m\u001b[1;32m    202\u001b[0m             \u001b[0mprev\u001b[0m \u001b[0;34m=\u001b[0m \u001b[0mself\u001b[0m\u001b[0;34m.\u001b[0m\u001b[0mnav\u001b[0m\u001b[0;34m.\u001b[0m\u001b[0mpath\u001b[0m\u001b[0;34m[\u001b[0m\u001b[0mnext_node\u001b[0m\u001b[0;34m]\u001b[0m\u001b[0;34m\u001b[0m\u001b[0m\n\u001b[1;32m    203\u001b[0m             \u001b[0mpath\u001b[0m\u001b[0;34m.\u001b[0m\u001b[0mappend\u001b[0m\u001b[0;34m(\u001b[0m\u001b[0mprev\u001b[0m\u001b[0;34m)\u001b[0m\u001b[0;34m\u001b[0m\u001b[0m\n",
      "\u001b[0;31mKeyError\u001b[0m: (11, 16)"
     ]
    }
   ],
   "source": [
    "actor.get_path()"
   ]
  },
  {
   "cell_type": "code",
   "execution_count": 37,
   "metadata": {},
   "outputs": [
    {
     "name": "stdout",
     "output_type": "stream",
     "text": [
      "| . # . . . . . # . . . . . . . . . . . . . . . . . . # . . .|\n",
      "| . . . . . . . . . . . . . . . . . . . . . . # . . . . . # .|\n",
      "| . . . . . . . # . . . . . . . . . # # . # . . . . . . . # .|\n",
      "| . . . . # . . # . . . . . . . . . . . . . . . . . . # . # .|\n",
      "| . . . . # . . # . . . . . . . . . . . . . . . . . . . . . .|\n",
      "| . . . . . . . . . . # . . . . . . . . . . . # . . # . . . .|\n",
      "| . . # . . . . # . . # . . # . # . . . . . . # . . . . # . .|\n",
      "| . . . . . . . # . . # . . . . . . . . . . . # . . # . . # .|\n",
      "| . # . . # . . . . . . . . # . # . . . . . . # . . . . . . .|\n",
      "| . # . . . . . . . . # . . # . . . . . . . . . . . . . . . .|\n",
      "| . # . . # . . . . . # . . # . . . . . . . . # . . . . . . .|\n",
      "| . . . . . . . . . . . . . . . . # . . # . . . . . . . . . .|\n",
      "| . . . . . . # # # . . . . # . . # . . . . . . . . . . # # #|\n",
      "| . . . . . . . . . . . . . # . . # . . # . . . . . . . . . .|\n",
      "| . . # . . . . . . . # . . . . . . . . . . . . . . . . . . .|\n",
      "| . . # . . . . . . . . . . . . . # . . . . . . . . . . . . .|\n",
      "| . . # . . . . . . . # . . . . . # . . . . . . . . . . . . .|\n",
      "| . . # . . . . . . . # . . . . . . . . . . . . . . . . . . #|\n",
      "| . . . . . . . . . . . . . . . . . . . # . # . . . . # . . .|\n",
      "| . . . . . . . . . . # . . . . . . . . # . . . . . . # . . .|\n",
      "| . . . . . . . . . . . . . . . . . . . # . . . . . . . . . .|\n",
      "| . . . . . . # # # . . . . . . . # . . . . . # . # . . . . .|\n",
      "| . . . . . . . . . . . . . . . . # . . # . . # . . . . . . .|\n",
      "| . . . . . . . . . . . . . . . . . . . . . . # . . . . . . .|\n",
      "| . . . . . . . . . . . . . # . # . . . . # . . . . # . # . .|\n",
      "| . . # . # . . . . . . . . # . . . . . . . . # . . # . . . .|\n",
      "| . . . . . . . . . . . . . # . . . . . . . . # . . # . . . .|\n",
      "| # . . . . . . . . . # . . # . . . . . . . . # . . . . . # .|\n",
      "| . . . . . . . . . . # . . # . . . . . . . . # . . # . . # .|\n",
      "| . . . . . . . . . . . . . . . . . . . . . . # . . . . . # .|\n"
     ]
    }
   ],
   "source": [
    "actor.draw_path()"
   ]
  },
  {
   "cell_type": "code",
   "execution_count": 38,
   "metadata": {},
   "outputs": [
    {
     "name": "stdout",
     "output_type": "stream",
     "text": [
      "| ↑ # ↑ ↑ ↑ ↑ ↑ # ↑ ↑ ↑ ↑ ↑ ↑ ↑ ↑ ↑ ← ← ← ← ← ← ↓ ↓ ↓ # ← ← ↑|\n",
      "| ← o → → → → → → → → → → → → → → → → ↓ ↓ ↓ ↓ # ← ← ← ← ↓ # ←|\n",
      "| ↓ ↓ ↓ ↓ ↓ ↓ ↓ # ↓ ↓ ↓ ↓ ↓ ↓ ↓ ↓ ↓ # # ↓ # ← ← ↓ ↓ ↓ ↓ ↓ # ↓|\n",
      "| ↓ ↓ ↓ ↓ # ↓ ↓ # ↓ ↓ ↓ ↓ ↓ ↓ ↓ ↓ ↓ ← ← ← ← ↓ ↓ ↓ ↓ ↓ # ↓ # ↓|\n",
      "| ↓ ↓ ↓ ↓ # ↓ ↓ # ↓ ↓ ↓ ↓ ↓ ↓ ↓ ↓ ← ← ← ← ← ← ← ← ← ← ← ← ← ↓|\n",
      "| ↓ ↓ ↓ ↓ → ↓ ↓ → ↓ ↓ # ↓ ↓ ↓ ↓ ↓ ↓ ↓ ↓ ↓ ↓ ↓ # ↓ ↓ # ↓ ↓ ↓ ↓|\n",
      "| ↓ ↓ # ↓ ↓ ↓ ↓ # ↓ ↓ # ↓ ↓ # ↓ # ↓ ↓ ↓ ↓ ↓ ↓ # ↓ ↓ ← ↓ # ↓ ↓|\n",
      "| ↓ ↓ → ↓ ↓ ↓ ↓ # ↓ ↓ # ↓ ↓ → ↓ → ↓ ↓ ↓ ↓ ↓ ↓ # ↓ ↓ # ↓ → # ↓|\n",
      "| ↓ # ↓ ↓ # ↓ ↓ → ↓ ↓ → ↓ ↓ # ↓ # ↓ ↓ ↓ ↓ ↓ ↓ # ↓ ↓ ← ↓ ← ← ↓|\n",
      "| ↓ # ↓ ↓ → ↓ ↓ ↓ ↓ ↓ # ↓ ↓ # ↓ → ↓ ↓ ↓ ↓ ↓ ↓ ← ↓ ↓ ↓ ↓ ↓ ↓ ↓|\n",
      "| ↓ # ↓ ↓ # ↓ ↓ ↓ ↓ ↓ # ↓ ↓ # ↓ ↓ ↓ ↓ ↓ ↓ ↓ ↓ # ↓ ↓ ↓ ↓ ↓ ↓ ↓|\n",
      "| ↓ → ↓ ↓ → ↓ ↓ ↓ ↓ ↓ → ↓ ↓ → ↓ ↓ # ↓ ↓ # ↓ ↓ ← ↓ ↓ ↓ ↓ ↓ ↓ ↓|\n",
      "| ↓ ↓ ↓ ↓ ↓ ↓ # # # ↓ ↓ ↓ ↓ # ↓ ↓ # ↓ ↓ ← ↓ ↓ ↓ ↓ ↓ ↓ ↓ # # #|\n",
      "| ↓ ↓ ↓ ↓ ↓ ↓ → → → ↓ ↓ ↓ ↓ # ↓ ↓ # ↓ ↓ # ↓ ↓ ↓ ↓ ↓ ↓ ↓ ← ← ←|\n",
      "| ↓ ↓ # ↓ ↓ ↓ ↓ ↓ ↓ ↓ # ↓ ↓ → ↓ ↓ ← ↓ ↓ ← ↓ ↓ ↓ ↓ ↓ ↓ ↓ ↓ ↓ ↓|\n",
      "| ↓ ↓ # ↓ ↓ ↓ ↓ ↓ ↓ ↓ → ↓ ↓ ↓ ↓ ↓ # ↓ ↓ ↓ ↓ ↓ ↓ ↓ ↓ ↓ ↓ ↓ ↓ ↓|\n",
      "| ↓ ↑ # ↑ ↑ ↑ ↑ ↑ ↑ ↑ # ↑ ↑ ↑ ↑ ↑ # ↑ ↑ ↑ ↑ ↑ ↑ ↑ ↑ ↑ ↑ ↑ ↑ ↓|\n",
      "| ↑ ↑ # ↑ ↑ ↑ ↑ ↑ ↑ ↑ # ↑ ↑ ↑ ↑ ↑ ↑ ↑ ↑ ← ↑ ← ↑ ↑ ↑ ↑ ← ↑ ↑ #|\n",
      "| ↑ ↑ ↑ ↑ ↑ ↑ ↑ ↑ ↑ ↑ → ↑ ↑ ↑ ↑ ↑ ↑ ↑ ↑ # ↑ # ↑ ↑ ↑ ↑ # ↑ ↑ ↑|\n",
      "| ↑ ↑ ↑ ↑ ↑ ↑ ↑ ↑ ↑ ↑ # ↑ ↑ ↑ ↑ ↑ ↑ ↑ ↑ # ↑ ↑ ↑ ↑ ↑ ↑ # ↑ ↑ ↑|\n",
      "| ↑ ↑ ↑ ↑ ↑ ↑ → → → ↑ ↑ ↑ ↑ ↑ ↑ ↑ ← ↑ ↑ # ↑ ↑ ← ↑ ← ↑ ↑ ↑ ↑ ↑|\n",
      "| ↑ ↑ ↑ ↑ ↑ ↑ # # # ↑ ↑ ↑ ↑ ↑ ↑ ↑ # ↑ ↑ ← ↑ ↑ # ↑ # ↑ ↑ ↑ ↑ ↑|\n",
      "| ↑ ↑ ↑ ↑ ↑ ↑ ↑ ↑ ↑ ↑ ↑ ↑ ↑ ↑ ↑ ↑ # ↑ ↑ # ↑ ↑ # ↑ ↑ ↑ ↑ ↑ ↑ ↑|\n",
      "| ↑ ↑ ↑ ↑ ↑ ↑ ↑ ↑ ↑ ↑ ↑ ↑ ↑ → ↑ → ← ← ← ← ← ↑ # ↑ ↑ ← ↑ ← ↑ ↑|\n",
      "| ↑ ↑ → ↑ → ↑ ↑ ↑ ↑ ↑ ↑ ↑ ↑ # ↑ # ↑ ↓ ↓ ↓ # ← ← ↑ ↑ # ↑ # ↑ ↑|\n",
      "| ↑ ↑ # ↑ # ↑ ↑ ↑ ↑ ↑ ↑ ↑ ↑ # ↑ ↑ ↑ ← ← ← ← ↓ # ↑ ↑ # ↑ ↑ ↑ ↑|\n",
      "| → ↑ ↑ ↑ ↑ ↑ ↑ ↑ ↑ ↑ → ↑ ↑ # ↑ ↑ ↑ ↑ ↑ ↑ ↑ ↑ # ↑ ↑ # ↑ ↑ ← ↑|\n",
      "| # ↑ ↑ ↑ ↑ ↑ ↑ ↑ ↑ ↑ # ↑ ↑ # ↑ ↑ ↑ ↑ ↑ ↑ ↑ ↑ # ↑ ↑ ← ↑ ↑ # ↑|\n",
      "| ↑ ↑ ↑ ↑ ↑ ↑ ↑ ↑ ↑ ↑ # ↑ ↑ # ↑ ↑ ↑ ↑ ↑ ↑ ↑ ↑ # ↑ ↑ # ↑ ↑ # ↑|\n",
      "| ↑ → ↑ ↑ ↑ ↑ ↑ → ↑ ↑ ↑ ↑ ↑ ↑ ↑ ↑ ↑ ↑ ↑ ↑ ↑ ↑ # ← ← ← ← ↑ # ↑|\n"
     ]
    }
   ],
   "source": [
    "actor.nav.draw_path()"
   ]
  },
  {
   "cell_type": "code",
   "execution_count": null,
   "metadata": {
    "collapsed": true
   },
   "outputs": [],
   "source": []
  }
 ],
 "metadata": {
  "kernelspec": {
   "display_name": "Python [conda env:snowflake]",
   "language": "python",
   "name": "conda-env-snowflake-py"
  },
  "language_info": {
   "codemirror_mode": {
    "name": "ipython",
    "version": 3
   },
   "file_extension": ".py",
   "mimetype": "text/x-python",
   "name": "python",
   "nbconvert_exporter": "python",
   "pygments_lexer": "ipython3",
   "version": "3.6.1"
  }
 },
 "nbformat": 4,
 "nbformat_minor": 2
}
