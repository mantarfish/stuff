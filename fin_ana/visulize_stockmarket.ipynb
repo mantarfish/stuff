{
 "cells": [
  {
   "cell_type": "code",
   "execution_count": 482,
   "metadata": {},
   "outputs": [],
   "source": [
    "from pandas_datareader import data\n",
    "import re\n",
    "\n",
    "\n",
    "\n",
    "def get_data(symbol, start, end):\n",
    "    df = data.DataReader(symbol, 'yahoo', start, end)\n",
    "    df.columns.values[-2] = 'Adj_Close'\n",
    "    df.columns = df.columns + '_' +symbol\n",
    "    df['return_%s' %symbol] = df['Adj_Close_%s' %symbol].pct_change()\n",
    "    return df\n",
    "\n",
    "# utils\n",
    "def get_symbol(df):\n",
    "    return df.columns.values[0].split('_')[-1]\n",
    "\n",
    "def get_digits(df, string):\n",
    "    symbol = get_symbol(df)\n",
    "    name = '|'.join(df.columns.values)\n",
    "    match = re.findall(r'\\|([\\w]+)\\_(\\d+)\\_', name)\n",
    "    for m in match:\n",
    "        if m[0] == string:\n",
    "            return m[0] + '_' + m[1]\n",
    "        \n",
    "def merge_dataframe(df_list):\n",
    "    ret = pd.concat(df_list, axis=1)\n",
    "    return ret\n",
    "\n",
    "# feature generation\n",
    "\n",
    "def delta_return(df, delta):\n",
    "    symbol = get_symbol(df)\n",
    "    df['delta_%d_%s' %(delta, symbol)] = df['Adj_Close_%s' %symbol].pct_change(delta)\n",
    "\n",
    "def moving_average(df, window):\n",
    "    symbol = get_symbol(df)\n",
    "    df['mvavg_%d_%s' %(window, symbol)] = df['return_%s' %symbol].rolling(window).mean()\n",
    "\n",
    "# slicing\n",
    "def get_adj_close(df):\n",
    "    symbol = get_symbol(df)\n",
    "    df = df['Adj_Close_%s' %symbol]\n",
    "    return df\n",
    "\n",
    "def get_features(df, features=['mvavg', 'delta']):\n",
    "    symbol = get_symbol(df)\n",
    "    feature_name = [get_digits(df, i) for i in features]\n",
    "    \n",
    "    col_list = [i + '_' + symbol for i in feature_name]\n",
    "    col_list.append('return_%s' %symbol)\n",
    "    \n",
    "    return df[col_list]\n",
    "    "
   ]
  },
  {
   "cell_type": "code",
   "execution_count": 489,
   "metadata": {},
   "outputs": [],
   "source": [
    "symbols = ['^IXIC', '^GDAXI', '^FTSE', '^FCHI', '^HSI', '^N225']\n",
    "\n",
    "symbol_dict = {\n",
    "    'TOT': 'Total',\n",
    "    'XOM': 'Exxon',\n",
    "    'CVX': 'Chevron',\n",
    "    'COP': 'ConocoPhillips',\n",
    "    'VLO': 'Valero Energy',\n",
    "    'MSFT': 'Microsoft',\n",
    "    'IBM': 'IBM',\n",
    "    'TWX': 'Time Warner',\n",
    "    'CMCSA': 'Comcast',\n",
    "    'CVC': 'Cablevision',\n",
    "    'YHOO': 'Yahoo',\n",
    "    'DELL': 'Dell',\n",
    "    'HPQ': 'HP',\n",
    "    'AMZN': 'Amazon',\n",
    "    'TM': 'Toyota',\n",
    "    'CAJ': 'Canon',\n",
    "    'SNE': 'Sony',\n",
    "    'F': 'Ford',\n",
    "    'HMC': 'Honda',\n",
    "    'NAV': 'Navistar',\n",
    "    'NOC': 'Northrop Grumman',\n",
    "    'BA': 'Boeing',\n",
    "    'KO': 'Coca Cola',\n",
    "    'MMM': '3M',\n",
    "    'MCD': 'McDonald\\'s',\n",
    "    'PEP': 'Pepsi',\n",
    "    'K': 'Kellogg',\n",
    "    'UN': 'Unilever',\n",
    "    'MAR': 'Marriott',\n",
    "    'PG': 'Procter Gamble',\n",
    "    'CL': 'Colgate-Palmolive',\n",
    "    'GE': 'General Electrics',\n",
    "    'WFC': 'Wells Fargo',\n",
    "    'JPM': 'JPMorgan Chase',\n",
    "    'AIG': 'AIG',\n",
    "    'AXP': 'American express',\n",
    "    'BAC': 'Bank of America',\n",
    "    'GS': 'Goldman Sachs',\n",
    "    'AAPL': 'Apple',\n",
    "    'SAP': 'SAP',\n",
    "    'CSCO': 'Cisco',\n",
    "    'TXN': 'Texas Instruments',\n",
    "    'XRX': 'Xerox',\n",
    "    'WMT': 'Wal-Mart',\n",
    "    'HD': 'Home Depot',\n",
    "    'GSK': 'GlaxoSmithKline',\n",
    "    'PFE': 'Pfizer',\n",
    "    'SNY': 'Sanofi-Aventis',\n",
    "    'NVS': 'Novartis',\n",
    "    'KMB': 'Kimberly-Clark',\n",
    "    'R': 'Ryder',\n",
    "    'GD': 'General Dynamics',\n",
    "    'RTN': 'Raytheon',\n",
    "    'CVS': 'CVS',\n",
    "    'CAT': 'Caterpillar',\n",
    "    'DD': 'DuPont de Nemours'}\n",
    "\n",
    "symbol = list(symbol_dict)\n",
    "\n",
    "start = '2004-01-01'\n",
    "end = '2017-01-01'\n",
    "\n",
    "qoutes = []\n",
    "for s in symbols:\n",
    "    qoutes.append(get_data(s, start, end))\n",
    "    \n",
    "for q in qoutes:\n",
    "    delta_return(q, 9)\n",
    "    moving_average(q, 9)"
   ]
  },
  {
   "cell_type": "code",
   "execution_count": 490,
   "metadata": {},
   "outputs": [],
   "source": [
    "features = []\n",
    "for q in qoutes:\n",
    "    features.append(get_features(q))"
   ]
  },
  {
   "cell_type": "code",
   "execution_count": 491,
   "metadata": {},
   "outputs": [],
   "source": [
    "predictor = merge_dataframe(features)\n",
    "predictor['return_^IXIC'] = predictor['return_^IXIC'].shift(-1)\n",
    "predictor = predictor.dropna()"
   ]
  },
  {
   "cell_type": "code",
   "execution_count": 492,
   "metadata": {},
   "outputs": [],
   "source": [
    "out = pd.DataFrame()\n",
    "out['up_down'] = predictor['return_^IXIC']\n",
    "out.loc[predictor['return_^IXIC']>0, ['up_down']] = 1\n",
    "out.loc[predictor['return_^IXIC']<0, ['up_down']] = 0"
   ]
  },
  {
   "cell_type": "code",
   "execution_count": 495,
   "metadata": {
    "scrolled": false
   },
   "outputs": [],
   "source": [
    "predictor = predictor.drop(['mvavg_9_^IXIC', 'delta_9_^IXIC', 'return_^IXIC'], axis=1)"
   ]
  },
  {
   "cell_type": "code",
   "execution_count": 496,
   "metadata": {
    "collapsed": true
   },
   "outputs": [],
   "source": [
    "from sklearn import preprocessing\n",
    "\n",
    "le = preprocessing.LabelEncoder()"
   ]
  },
  {
   "cell_type": "code",
   "execution_count": 497,
   "metadata": {},
   "outputs": [],
   "source": [
    "target = le.fit(out.up_down).transform(out.up_down)"
   ]
  },
  {
   "cell_type": "code",
   "execution_count": 498,
   "metadata": {},
   "outputs": [
    {
     "data": {
      "text/plain": [
       "2477"
      ]
     },
     "execution_count": 498,
     "metadata": {},
     "output_type": "execute_result"
    }
   ],
   "source": [
    "len(out)"
   ]
  },
  {
   "cell_type": "code",
   "execution_count": 499,
   "metadata": {},
   "outputs": [
    {
     "data": {
      "text/plain": [
       "RandomForestClassifier(bootstrap=True, class_weight=None, criterion='gini',\n",
       "            max_depth=None, max_features='auto', max_leaf_nodes=None,\n",
       "            min_impurity_split=1e-07, min_samples_leaf=1,\n",
       "            min_samples_split=2, min_weight_fraction_leaf=0.0,\n",
       "            n_estimators=1000, n_jobs=-1, oob_score=False,\n",
       "            random_state=None, verbose=0, warm_start=False)"
      ]
     },
     "execution_count": 499,
     "metadata": {},
     "output_type": "execute_result"
    }
   ],
   "source": [
    "from sklearn.ensemble import RandomForestClassifier\n",
    "clf = RandomForestClassifier(n_estimators=1000, n_jobs=-1)\n",
    "clf.fit(predictor[:2350], target[:2350])"
   ]
  },
  {
   "cell_type": "code",
   "execution_count": 500,
   "metadata": {},
   "outputs": [
    {
     "data": {
      "text/plain": [
       "0.45669291338582679"
      ]
     },
     "execution_count": 500,
     "metadata": {},
     "output_type": "execute_result"
    }
   ],
   "source": [
    "clf.score(predictor[2350:], target[2350:])"
   ]
  },
  {
   "cell_type": "code",
   "execution_count": 501,
   "metadata": {},
   "outputs": [
    {
     "data": {
      "text/plain": [
       "array([1])"
      ]
     },
     "execution_count": 501,
     "metadata": {},
     "output_type": "execute_result"
    }
   ],
   "source": [
    "target[30:31]"
   ]
  },
  {
   "cell_type": "code",
   "execution_count": 502,
   "metadata": {
    "collapsed": true
   },
   "outputs": [],
   "source": [
    "from sklearn.manifold import TSNE\n",
    "\n",
    "clf = TSNE(n_components=2, early_exaggeration=2000)\n",
    "embedded = clf.fit_transform(predictor.transpose())"
   ]
  },
  {
   "cell_type": "code",
   "execution_count": 503,
   "metadata": {},
   "outputs": [
    {
     "data": {
      "text/plain": [
       "15"
      ]
     },
     "execution_count": 503,
     "metadata": {},
     "output_type": "execute_result"
    }
   ],
   "source": [
    "len(embedded)"
   ]
  },
  {
   "cell_type": "code",
   "execution_count": 504,
   "metadata": {},
   "outputs": [
    {
     "data": {
      "text/html": [
       "\n",
       "    <div class=\"bk-root\">\n",
       "        <a href=\"http://bokeh.pydata.org\" target=\"_blank\" class=\"bk-logo bk-logo-small bk-logo-notebook\"></a>\n",
       "        <span id=\"16f6a9d7-9eda-4e90-89c4-e3eb1adb4d8c\">Loading BokehJS ...</span>\n",
       "    </div>"
      ]
     },
     "metadata": {},
     "output_type": "display_data"
    },
    {
     "data": {
      "application/javascript": [
       "\n",
       "(function(global) {\n",
       "  function now() {\n",
       "    return new Date();\n",
       "  }\n",
       "\n",
       "  var force = true;\n",
       "\n",
       "  if (typeof (window._bokeh_onload_callbacks) === \"undefined\" || force === true) {\n",
       "    window._bokeh_onload_callbacks = [];\n",
       "    window._bokeh_is_loading = undefined;\n",
       "  }\n",
       "\n",
       "\n",
       "  \n",
       "  if (typeof (window._bokeh_timeout) === \"undefined\" || force === true) {\n",
       "    window._bokeh_timeout = Date.now() + 5000;\n",
       "    window._bokeh_failed_load = false;\n",
       "  }\n",
       "\n",
       "  var NB_LOAD_WARNING = {'data': {'text/html':\n",
       "     \"<div style='background-color: #fdd'>\\n\"+\n",
       "     \"<p>\\n\"+\n",
       "     \"BokehJS does not appear to have successfully loaded. If loading BokehJS from CDN, this \\n\"+\n",
       "     \"may be due to a slow or bad network connection. Possible fixes:\\n\"+\n",
       "     \"</p>\\n\"+\n",
       "     \"<ul>\\n\"+\n",
       "     \"<li>re-rerun `output_notebook()` to attempt to load from CDN again, or</li>\\n\"+\n",
       "     \"<li>use INLINE resources instead, as so:</li>\\n\"+\n",
       "     \"</ul>\\n\"+\n",
       "     \"<code>\\n\"+\n",
       "     \"from bokeh.resources import INLINE\\n\"+\n",
       "     \"output_notebook(resources=INLINE)\\n\"+\n",
       "     \"</code>\\n\"+\n",
       "     \"</div>\"}};\n",
       "\n",
       "  function display_loaded() {\n",
       "    if (window.Bokeh !== undefined) {\n",
       "      var el = document.getElementById(\"16f6a9d7-9eda-4e90-89c4-e3eb1adb4d8c\");\n",
       "      el.textContent = \"BokehJS \" + Bokeh.version + \" successfully loaded.\";\n",
       "    } else if (Date.now() < window._bokeh_timeout) {\n",
       "      setTimeout(display_loaded, 100)\n",
       "    }\n",
       "  }\n",
       "\n",
       "  function run_callbacks() {\n",
       "    try {\n",
       "      window._bokeh_onload_callbacks.forEach(function(callback) { callback() });\n",
       "    }\n",
       "    finally {\n",
       "      delete window._bokeh_onload_callbacks\n",
       "    }\n",
       "    console.info(\"Bokeh: all callbacks have finished\");\n",
       "  }\n",
       "\n",
       "  function load_libs(js_urls, callback) {\n",
       "    window._bokeh_onload_callbacks.push(callback);\n",
       "    if (window._bokeh_is_loading > 0) {\n",
       "      console.log(\"Bokeh: BokehJS is being loaded, scheduling callback at\", now());\n",
       "      return null;\n",
       "    }\n",
       "    if (js_urls == null || js_urls.length === 0) {\n",
       "      run_callbacks();\n",
       "      return null;\n",
       "    }\n",
       "    console.log(\"Bokeh: BokehJS not loaded, scheduling load and callback at\", now());\n",
       "    window._bokeh_is_loading = js_urls.length;\n",
       "    for (var i = 0; i < js_urls.length; i++) {\n",
       "      var url = js_urls[i];\n",
       "      var s = document.createElement('script');\n",
       "      s.src = url;\n",
       "      s.async = false;\n",
       "      s.onreadystatechange = s.onload = function() {\n",
       "        window._bokeh_is_loading--;\n",
       "        if (window._bokeh_is_loading === 0) {\n",
       "          console.log(\"Bokeh: all BokehJS libraries loaded\");\n",
       "          run_callbacks()\n",
       "        }\n",
       "      };\n",
       "      s.onerror = function() {\n",
       "        console.warn(\"failed to load library \" + url);\n",
       "      };\n",
       "      console.log(\"Bokeh: injecting script tag for BokehJS library: \", url);\n",
       "      document.getElementsByTagName(\"head\")[0].appendChild(s);\n",
       "    }\n",
       "  };var element = document.getElementById(\"16f6a9d7-9eda-4e90-89c4-e3eb1adb4d8c\");\n",
       "  if (element == null) {\n",
       "    console.log(\"Bokeh: ERROR: autoload.js configured with elementid '16f6a9d7-9eda-4e90-89c4-e3eb1adb4d8c' but no matching script tag was found. \")\n",
       "    return false;\n",
       "  }\n",
       "\n",
       "  var js_urls = [\"https://cdn.pydata.org/bokeh/release/bokeh-0.12.6.min.js\", \"https://cdn.pydata.org/bokeh/release/bokeh-widgets-0.12.6.min.js\"];\n",
       "\n",
       "  var inline_js = [\n",
       "    function(Bokeh) {\n",
       "      Bokeh.set_log_level(\"info\");\n",
       "    },\n",
       "    \n",
       "    function(Bokeh) {\n",
       "      \n",
       "    },\n",
       "    \n",
       "    function(Bokeh) {\n",
       "      \n",
       "      document.getElementById(\"16f6a9d7-9eda-4e90-89c4-e3eb1adb4d8c\").textContent = \"BokehJS is loading...\";\n",
       "    },\n",
       "    function(Bokeh) {\n",
       "      console.log(\"Bokeh: injecting CSS: https://cdn.pydata.org/bokeh/release/bokeh-0.12.6.min.css\");\n",
       "      Bokeh.embed.inject_css(\"https://cdn.pydata.org/bokeh/release/bokeh-0.12.6.min.css\");\n",
       "      console.log(\"Bokeh: injecting CSS: https://cdn.pydata.org/bokeh/release/bokeh-widgets-0.12.6.min.css\");\n",
       "      Bokeh.embed.inject_css(\"https://cdn.pydata.org/bokeh/release/bokeh-widgets-0.12.6.min.css\");\n",
       "    }\n",
       "  ];\n",
       "\n",
       "  function run_inline_js() {\n",
       "    \n",
       "    if ((window.Bokeh !== undefined) || (force === true)) {\n",
       "      for (var i = 0; i < inline_js.length; i++) {\n",
       "        inline_js[i](window.Bokeh);\n",
       "      }if (force === true) {\n",
       "        display_loaded();\n",
       "      }} else if (Date.now() < window._bokeh_timeout) {\n",
       "      setTimeout(run_inline_js, 100);\n",
       "    } else if (!window._bokeh_failed_load) {\n",
       "      console.log(\"Bokeh: BokehJS failed to load within specified timeout.\");\n",
       "      window._bokeh_failed_load = true;\n",
       "    } else if (force !== true) {\n",
       "      var cell = $(document.getElementById(\"16f6a9d7-9eda-4e90-89c4-e3eb1adb4d8c\")).parents('.cell').data().cell;\n",
       "      cell.output_area.append_execute_result(NB_LOAD_WARNING)\n",
       "    }\n",
       "\n",
       "  }\n",
       "\n",
       "  if (window._bokeh_is_loading === 0) {\n",
       "    console.log(\"Bokeh: BokehJS loaded, going straight to plotting\");\n",
       "    run_inline_js();\n",
       "  } else {\n",
       "    load_libs(js_urls, function() {\n",
       "      console.log(\"Bokeh: BokehJS plotting callback run at\", now());\n",
       "      run_inline_js();\n",
       "    });\n",
       "  }\n",
       "}(this));"
      ]
     },
     "metadata": {},
     "output_type": "display_data"
    }
   ],
   "source": [
    "import numpy as np\n",
    "import bokeh.plotting as bp\n",
    "from bokeh.plotting import show\n",
    "from bokeh.models import HoverTool\n",
    "from bokeh.io import output_notebook\n",
    "output_notebook()"
   ]
  },
  {
   "cell_type": "code",
   "execution_count": 505,
   "metadata": {},
   "outputs": [
    {
     "data": {
      "text/html": [
       "\n",
       "\n",
       "    <div class=\"bk-root\">\n",
       "        <div class=\"bk-plotdiv\" id=\"c9308b55-4c8d-4b71-b7c0-4b9c6516f8fd\"></div>\n",
       "    </div>\n",
       "<script type=\"text/javascript\">\n",
       "  \n",
       "  (function(global) {\n",
       "    function now() {\n",
       "      return new Date();\n",
       "    }\n",
       "  \n",
       "    var force = false;\n",
       "  \n",
       "    if (typeof (window._bokeh_onload_callbacks) === \"undefined\" || force === true) {\n",
       "      window._bokeh_onload_callbacks = [];\n",
       "      window._bokeh_is_loading = undefined;\n",
       "    }\n",
       "  \n",
       "  \n",
       "    \n",
       "    if (typeof (window._bokeh_timeout) === \"undefined\" || force === true) {\n",
       "      window._bokeh_timeout = Date.now() + 0;\n",
       "      window._bokeh_failed_load = false;\n",
       "    }\n",
       "  \n",
       "    var NB_LOAD_WARNING = {'data': {'text/html':\n",
       "       \"<div style='background-color: #fdd'>\\n\"+\n",
       "       \"<p>\\n\"+\n",
       "       \"BokehJS does not appear to have successfully loaded. If loading BokehJS from CDN, this \\n\"+\n",
       "       \"may be due to a slow or bad network connection. Possible fixes:\\n\"+\n",
       "       \"</p>\\n\"+\n",
       "       \"<ul>\\n\"+\n",
       "       \"<li>re-rerun `output_notebook()` to attempt to load from CDN again, or</li>\\n\"+\n",
       "       \"<li>use INLINE resources instead, as so:</li>\\n\"+\n",
       "       \"</ul>\\n\"+\n",
       "       \"<code>\\n\"+\n",
       "       \"from bokeh.resources import INLINE\\n\"+\n",
       "       \"output_notebook(resources=INLINE)\\n\"+\n",
       "       \"</code>\\n\"+\n",
       "       \"</div>\"}};\n",
       "  \n",
       "    function display_loaded() {\n",
       "      if (window.Bokeh !== undefined) {\n",
       "        var el = document.getElementById(\"c9308b55-4c8d-4b71-b7c0-4b9c6516f8fd\");\n",
       "        el.textContent = \"BokehJS \" + Bokeh.version + \" successfully loaded.\";\n",
       "      } else if (Date.now() < window._bokeh_timeout) {\n",
       "        setTimeout(display_loaded, 100)\n",
       "      }\n",
       "    }\n",
       "  \n",
       "    function run_callbacks() {\n",
       "      try {\n",
       "        window._bokeh_onload_callbacks.forEach(function(callback) { callback() });\n",
       "      }\n",
       "      finally {\n",
       "        delete window._bokeh_onload_callbacks\n",
       "      }\n",
       "      console.info(\"Bokeh: all callbacks have finished\");\n",
       "    }\n",
       "  \n",
       "    function load_libs(js_urls, callback) {\n",
       "      window._bokeh_onload_callbacks.push(callback);\n",
       "      if (window._bokeh_is_loading > 0) {\n",
       "        console.log(\"Bokeh: BokehJS is being loaded, scheduling callback at\", now());\n",
       "        return null;\n",
       "      }\n",
       "      if (js_urls == null || js_urls.length === 0) {\n",
       "        run_callbacks();\n",
       "        return null;\n",
       "      }\n",
       "      console.log(\"Bokeh: BokehJS not loaded, scheduling load and callback at\", now());\n",
       "      window._bokeh_is_loading = js_urls.length;\n",
       "      for (var i = 0; i < js_urls.length; i++) {\n",
       "        var url = js_urls[i];\n",
       "        var s = document.createElement('script');\n",
       "        s.src = url;\n",
       "        s.async = false;\n",
       "        s.onreadystatechange = s.onload = function() {\n",
       "          window._bokeh_is_loading--;\n",
       "          if (window._bokeh_is_loading === 0) {\n",
       "            console.log(\"Bokeh: all BokehJS libraries loaded\");\n",
       "            run_callbacks()\n",
       "          }\n",
       "        };\n",
       "        s.onerror = function() {\n",
       "          console.warn(\"failed to load library \" + url);\n",
       "        };\n",
       "        console.log(\"Bokeh: injecting script tag for BokehJS library: \", url);\n",
       "        document.getElementsByTagName(\"head\")[0].appendChild(s);\n",
       "      }\n",
       "    };var element = document.getElementById(\"c9308b55-4c8d-4b71-b7c0-4b9c6516f8fd\");\n",
       "    if (element == null) {\n",
       "      console.log(\"Bokeh: ERROR: autoload.js configured with elementid 'c9308b55-4c8d-4b71-b7c0-4b9c6516f8fd' but no matching script tag was found. \")\n",
       "      return false;\n",
       "    }\n",
       "  \n",
       "    var js_urls = [];\n",
       "  \n",
       "    var inline_js = [\n",
       "      function(Bokeh) {\n",
       "        (function() {\n",
       "          var fn = function() {\n",
       "            var docs_json = {\"ca3b63bb-d6ec-47fd-9b41-eff346490584\":{\"roots\":{\"references\":[{\"attributes\":{},\"id\":\"0d733ac9-d3d1-4eb0-9b7c-840d4ebdfed5\",\"type\":\"BasicTicker\"},{\"attributes\":{\"plot\":{\"id\":\"ed9129d9-9893-41e5-8ebb-d2ba954264fd\",\"subtype\":\"Figure\",\"type\":\"Plot\"}},\"id\":\"e5836467-7f6d-4ff5-83fb-b983de907a8d\",\"type\":\"WheelZoomTool\"},{\"attributes\":{\"plot\":{\"id\":\"ed9129d9-9893-41e5-8ebb-d2ba954264fd\",\"subtype\":\"Figure\",\"type\":\"Plot\"}},\"id\":\"a495a981-764a-4b37-a8c9-41c9644e39e6\",\"type\":\"HelpTool\"},{\"attributes\":{\"dimension\":1,\"plot\":{\"id\":\"ed9129d9-9893-41e5-8ebb-d2ba954264fd\",\"subtype\":\"Figure\",\"type\":\"Plot\"},\"ticker\":{\"id\":\"0d733ac9-d3d1-4eb0-9b7c-840d4ebdfed5\",\"type\":\"BasicTicker\"}},\"id\":\"fe8441da-2ee0-436a-bd1e-5f7a83520c5b\",\"type\":\"Grid\"},{\"attributes\":{\"fill_alpha\":{\"value\":0.1},\"fill_color\":{\"value\":\"#1f77b4\"},\"line_alpha\":{\"value\":0.1},\"line_color\":{\"value\":\"#1f77b4\"},\"x\":{\"field\":\"x\"},\"y\":{\"field\":\"y\"}},\"id\":\"834e6838-3a9f-49c9-b271-3163ca5e07e8\",\"type\":\"Circle\"},{\"attributes\":{\"plot\":{\"id\":\"ed9129d9-9893-41e5-8ebb-d2ba954264fd\",\"subtype\":\"Figure\",\"type\":\"Plot\"}},\"id\":\"65a7f7b9-b4e3-4295-8ece-c880a39ed171\",\"type\":\"SaveTool\"},{\"attributes\":{\"active_drag\":\"auto\",\"active_inspect\":\"auto\",\"active_scroll\":\"auto\",\"active_tap\":\"auto\",\"tools\":[{\"id\":\"8614a5ba-7302-4639-a43d-66d07842193e\",\"type\":\"PanTool\"},{\"id\":\"e5836467-7f6d-4ff5-83fb-b983de907a8d\",\"type\":\"WheelZoomTool\"},{\"id\":\"78f5f0fa-e769-4ea4-8ddc-dd0353691f4e\",\"type\":\"BoxZoomTool\"},{\"id\":\"65a7f7b9-b4e3-4295-8ece-c880a39ed171\",\"type\":\"SaveTool\"},{\"id\":\"1e319759-4695-42a7-bf02-d64815feedba\",\"type\":\"ResetTool\"},{\"id\":\"a495a981-764a-4b37-a8c9-41c9644e39e6\",\"type\":\"HelpTool\"}]},\"id\":\"66e673b6-2d14-464f-883f-bb887d041cd7\",\"type\":\"Toolbar\"},{\"attributes\":{\"formatter\":{\"id\":\"285323a1-8f70-4ef0-8d79-0a8fcb84f53b\",\"type\":\"BasicTickFormatter\"},\"plot\":{\"id\":\"ed9129d9-9893-41e5-8ebb-d2ba954264fd\",\"subtype\":\"Figure\",\"type\":\"Plot\"},\"ticker\":{\"id\":\"0d733ac9-d3d1-4eb0-9b7c-840d4ebdfed5\",\"type\":\"BasicTicker\"}},\"id\":\"47e006e3-e698-41f5-a72a-fd2305a7330e\",\"type\":\"LinearAxis\"},{\"attributes\":{\"data_source\":{\"id\":\"75207f25-c7f1-44fd-aa3c-a85d7b4e46c8\",\"type\":\"ColumnDataSource\"},\"glyph\":{\"id\":\"c128c6e8-8021-4ec8-963d-333733947633\",\"type\":\"Circle\"},\"hover_glyph\":null,\"muted_glyph\":null,\"nonselection_glyph\":{\"id\":\"834e6838-3a9f-49c9-b271-3163ca5e07e8\",\"type\":\"Circle\"},\"selection_glyph\":null},\"id\":\"bd2b1958-ed72-4fea-ac3e-dca4b95a0fb7\",\"type\":\"GlyphRenderer\"},{\"attributes\":{\"plot\":null,\"text\":\"\"},\"id\":\"3573226a-40ba-407e-8c20-03f25863cf1c\",\"type\":\"Title\"},{\"attributes\":{},\"id\":\"d6c87fcf-6de4-4715-b9b0-e3c4bae51d9f\",\"type\":\"LinearScale\"},{\"attributes\":{\"formatter\":{\"id\":\"fee867ee-049a-4061-b319-668247bdd608\",\"type\":\"BasicTickFormatter\"},\"plot\":{\"id\":\"ed9129d9-9893-41e5-8ebb-d2ba954264fd\",\"subtype\":\"Figure\",\"type\":\"Plot\"},\"ticker\":{\"id\":\"31ff5252-8dff-4ee9-8114-1845c4835a06\",\"type\":\"BasicTicker\"}},\"id\":\"5ae49134-da60-4a01-b32e-4d73900884c0\",\"type\":\"LinearAxis\"},{\"attributes\":{\"callback\":null},\"id\":\"08cd7a02-8478-4d0b-9f2d-9c16e1b0e93c\",\"type\":\"DataRange1d\"},{\"attributes\":{},\"id\":\"285323a1-8f70-4ef0-8d79-0a8fcb84f53b\",\"type\":\"BasicTickFormatter\"},{\"attributes\":{\"below\":[{\"id\":\"5ae49134-da60-4a01-b32e-4d73900884c0\",\"type\":\"LinearAxis\"}],\"left\":[{\"id\":\"47e006e3-e698-41f5-a72a-fd2305a7330e\",\"type\":\"LinearAxis\"}],\"renderers\":[{\"id\":\"5ae49134-da60-4a01-b32e-4d73900884c0\",\"type\":\"LinearAxis\"},{\"id\":\"b980e0fa-415e-4e37-92e7-4ad72ab5d996\",\"type\":\"Grid\"},{\"id\":\"47e006e3-e698-41f5-a72a-fd2305a7330e\",\"type\":\"LinearAxis\"},{\"id\":\"fe8441da-2ee0-436a-bd1e-5f7a83520c5b\",\"type\":\"Grid\"},{\"id\":\"7b5d1609-3945-49cf-b383-a4dcdec74af6\",\"type\":\"BoxAnnotation\"},{\"id\":\"bd2b1958-ed72-4fea-ac3e-dca4b95a0fb7\",\"type\":\"GlyphRenderer\"}],\"title\":{\"id\":\"3573226a-40ba-407e-8c20-03f25863cf1c\",\"type\":\"Title\"},\"tool_events\":{\"id\":\"dc24f55d-3834-4fca-b433-add7a40a9b28\",\"type\":\"ToolEvents\"},\"toolbar\":{\"id\":\"66e673b6-2d14-464f-883f-bb887d041cd7\",\"type\":\"Toolbar\"},\"x_range\":{\"id\":\"08cd7a02-8478-4d0b-9f2d-9c16e1b0e93c\",\"type\":\"DataRange1d\"},\"x_scale\":{\"id\":\"d6c87fcf-6de4-4715-b9b0-e3c4bae51d9f\",\"type\":\"LinearScale\"},\"y_range\":{\"id\":\"1f012d31-decb-4bc4-b306-3e5c4a001730\",\"type\":\"DataRange1d\"},\"y_scale\":{\"id\":\"36848155-ef63-40f9-807b-206a63c5a750\",\"type\":\"LinearScale\"}},\"id\":\"ed9129d9-9893-41e5-8ebb-d2ba954264fd\",\"subtype\":\"Figure\",\"type\":\"Plot\"},{\"attributes\":{},\"id\":\"dc24f55d-3834-4fca-b433-add7a40a9b28\",\"type\":\"ToolEvents\"},{\"attributes\":{},\"id\":\"36848155-ef63-40f9-807b-206a63c5a750\",\"type\":\"LinearScale\"},{\"attributes\":{\"bottom_units\":\"screen\",\"fill_alpha\":{\"value\":0.5},\"fill_color\":{\"value\":\"lightgrey\"},\"left_units\":\"screen\",\"level\":\"overlay\",\"line_alpha\":{\"value\":1.0},\"line_color\":{\"value\":\"black\"},\"line_dash\":[4,4],\"line_width\":{\"value\":2},\"plot\":null,\"render_mode\":\"css\",\"right_units\":\"screen\",\"top_units\":\"screen\"},\"id\":\"7b5d1609-3945-49cf-b383-a4dcdec74af6\",\"type\":\"BoxAnnotation\"},{\"attributes\":{\"callback\":null,\"column_names\":[\"x\",\"y\"],\"data\":{\"x\":[-7.946376387139707e-06,-9.62625630904262e-06,-0.00011125548415809979,-0.00011629684413016641,-0.00016983606642520247,4.6791733833523725e-05,7.942679432229476e-05,-0.0001354625820361003,-4.0623766671017606e-05,4.361909098063986e-05,-0.00011123521681742854,7.671869322788123e-05,5.5667018389021684e-05,-4.701454844036837e-05,-0.00015366634171224018],\"y\":[-4.3968508059065396e-05,-0.00010686381918650603,0.00010137482476147314,-9.883848984647003e-05,0.00011244655297382801,1.2184190678200893e-06,3.8084170344285345e-05,8.774414122327341e-05,-8.800495537070202e-05,0.00012804339907020594,0.00012264257551570474,3.8712727706745426e-05,5.75293779758051e-05,-7.027247286349448e-05,-0.0001027700605722803]}},\"id\":\"75207f25-c7f1-44fd-aa3c-a85d7b4e46c8\",\"type\":\"ColumnDataSource\"},{\"attributes\":{\"fill_color\":{\"value\":\"#1f77b4\"},\"line_color\":{\"value\":\"#1f77b4\"},\"x\":{\"field\":\"x\"},\"y\":{\"field\":\"y\"}},\"id\":\"c128c6e8-8021-4ec8-963d-333733947633\",\"type\":\"Circle\"},{\"attributes\":{},\"id\":\"31ff5252-8dff-4ee9-8114-1845c4835a06\",\"type\":\"BasicTicker\"},{\"attributes\":{\"plot\":{\"id\":\"ed9129d9-9893-41e5-8ebb-d2ba954264fd\",\"subtype\":\"Figure\",\"type\":\"Plot\"},\"ticker\":{\"id\":\"31ff5252-8dff-4ee9-8114-1845c4835a06\",\"type\":\"BasicTicker\"}},\"id\":\"b980e0fa-415e-4e37-92e7-4ad72ab5d996\",\"type\":\"Grid\"},{\"attributes\":{},\"id\":\"fee867ee-049a-4061-b319-668247bdd608\",\"type\":\"BasicTickFormatter\"},{\"attributes\":{\"plot\":{\"id\":\"ed9129d9-9893-41e5-8ebb-d2ba954264fd\",\"subtype\":\"Figure\",\"type\":\"Plot\"}},\"id\":\"1e319759-4695-42a7-bf02-d64815feedba\",\"type\":\"ResetTool\"},{\"attributes\":{\"plot\":{\"id\":\"ed9129d9-9893-41e5-8ebb-d2ba954264fd\",\"subtype\":\"Figure\",\"type\":\"Plot\"}},\"id\":\"8614a5ba-7302-4639-a43d-66d07842193e\",\"type\":\"PanTool\"},{\"attributes\":{\"callback\":null},\"id\":\"1f012d31-decb-4bc4-b306-3e5c4a001730\",\"type\":\"DataRange1d\"},{\"attributes\":{\"overlay\":{\"id\":\"7b5d1609-3945-49cf-b383-a4dcdec74af6\",\"type\":\"BoxAnnotation\"},\"plot\":{\"id\":\"ed9129d9-9893-41e5-8ebb-d2ba954264fd\",\"subtype\":\"Figure\",\"type\":\"Plot\"}},\"id\":\"78f5f0fa-e769-4ea4-8ddc-dd0353691f4e\",\"type\":\"BoxZoomTool\"}],\"root_ids\":[\"ed9129d9-9893-41e5-8ebb-d2ba954264fd\"]},\"title\":\"Bokeh Application\",\"version\":\"0.12.6\"}};\n",
       "            var render_items = [{\"docid\":\"ca3b63bb-d6ec-47fd-9b41-eff346490584\",\"elementid\":\"c9308b55-4c8d-4b71-b7c0-4b9c6516f8fd\",\"modelid\":\"ed9129d9-9893-41e5-8ebb-d2ba954264fd\"}];\n",
       "            \n",
       "            Bokeh.embed.embed_items(docs_json, render_items);\n",
       "          };\n",
       "          if (document.readyState != \"loading\") fn();\n",
       "          else document.addEventListener(\"DOMContentLoaded\", fn);\n",
       "        })();\n",
       "      },\n",
       "      function(Bokeh) {\n",
       "      }\n",
       "    ];\n",
       "  \n",
       "    function run_inline_js() {\n",
       "      \n",
       "      if ((window.Bokeh !== undefined) || (force === true)) {\n",
       "        for (var i = 0; i < inline_js.length; i++) {\n",
       "          inline_js[i](window.Bokeh);\n",
       "        }if (force === true) {\n",
       "          display_loaded();\n",
       "        }} else if (Date.now() < window._bokeh_timeout) {\n",
       "        setTimeout(run_inline_js, 100);\n",
       "      } else if (!window._bokeh_failed_load) {\n",
       "        console.log(\"Bokeh: BokehJS failed to load within specified timeout.\");\n",
       "        window._bokeh_failed_load = true;\n",
       "      } else if (force !== true) {\n",
       "        var cell = $(document.getElementById(\"c9308b55-4c8d-4b71-b7c0-4b9c6516f8fd\")).parents('.cell').data().cell;\n",
       "        cell.output_area.append_execute_result(NB_LOAD_WARNING)\n",
       "      }\n",
       "  \n",
       "    }\n",
       "  \n",
       "    if (window._bokeh_is_loading === 0) {\n",
       "      console.log(\"Bokeh: BokehJS loaded, going straight to plotting\");\n",
       "      run_inline_js();\n",
       "    } else {\n",
       "      load_libs(js_urls, function() {\n",
       "        console.log(\"Bokeh: BokehJS plotting callback run at\", now());\n",
       "        run_inline_js();\n",
       "      });\n",
       "    }\n",
       "  }(this));\n",
       "</script>"
      ]
     },
     "metadata": {},
     "output_type": "display_data"
    }
   ],
   "source": [
    "figure = bp.figure()\n",
    "\n",
    "figure.scatter(x=[i[0] for i in embedded], y=[i[1] for i in embedded])\n",
    "\n",
    "show(figure)"
   ]
  },
  {
   "cell_type": "code",
   "execution_count": null,
   "metadata": {
    "collapsed": true
   },
   "outputs": [],
   "source": []
  }
 ],
 "metadata": {
  "kernelspec": {
   "display_name": "Python [conda env:snowflake]",
   "language": "python",
   "name": "conda-env-snowflake-py"
  },
  "language_info": {
   "codemirror_mode": {
    "name": "ipython",
    "version": 3
   },
   "file_extension": ".py",
   "mimetype": "text/x-python",
   "name": "python",
   "nbconvert_exporter": "python",
   "pygments_lexer": "ipython3",
   "version": "3.6.1"
  }
 },
 "nbformat": 4,
 "nbformat_minor": 2
}
